{
 "cells": [
  {
   "cell_type": "markdown",
   "metadata": {
    "tags": [
     "s1",
     "content",
     "l1"
    ]
   },
   "source": [
    "# Credit Approval Model using a Bayesian Network\n",
    "\n",
    "Let us look at a credit approval process example. Please note that the model/process shown here does not closely follow any real life approval process. This model is a completely generated from scratch solely for the purpose of practice and easy explanation.\n",
    "\n",
    "There are two factors, Outstanding Loan (OL) and Payment History (PH) which are independent of each other and influence another factor Credit Rating (CR). Credit Rating and Income Level (IL) are in turn two independent factors which influence Interest Rate (IR) of a credit line that would be extended to a customer. Depending upon CR and IL, a customer may receive a credit/loan at a premium rate, par rate or discounted interest rate.\n",
    "\n",
    "The model is shown in the form of a directed graph, with probabilities:\n",
    "\n",
    "<img src=\"../images/credit_approval.png\", style=\"height:50vh;\">\n",
    "\n",
    "Create a Bayesian Network and add CPDs to the above model.\n",
    "\n",
    "\n",
    "## Specify the CPDs\n",
    "\n",
    "* Given the above examples, specify all CPDs for the fraud model:\n",
    "* credit_rating_cpd\n",
    "* interest_rate_cpd\n",
    "* Outstanding_loan_cpd \n",
    "* Payment_history_cpd\n",
    "* Income_level_cpd\n",
    "\n"
   ]
  },
  {
   "cell_type": "code",
   "execution_count": 74,
   "metadata": {
    "collapsed": true,
    "tags": [
     "s1",
     "ce",
     "l1"
    ]
   },
   "outputs": [],
   "source": [
    "from pgmpy.factors.discrete import TabularCPD\n",
    "from pgmpy.models import BayesianModel\n",
    "\n",
    "credit_rating_cpd = TabularCPD(\n",
    "                variable='CR',\n",
    "                variable_card=4,\n",
    "                values=[[0.85, 0.04, 0.12, 0.02, 0.13, 0.01],\n",
    "                        [0.1, 0.07, 0.65, 0.07, 0.2, 0.04],\n",
    "                        [0.04, 0.75, 0.15, 0.25, 0.45, 0.25],\n",
    "                        [0.01, 0.14, 0.08, 0.66, 0.22, 0.7]],\n",
    "                evidence=['OL', 'PH'],\n",
    "                evidence_card=[3, 2])\n",
    "\n",
    "\n"
   ]
  },
  {
   "cell_type": "markdown",
   "metadata": {
    "tags": [
     "s1",
     "l1",
     "hint"
    ]
   },
   "source": [
    "#hint"
   ]
  },
  {
   "cell_type": "code",
   "execution_count": 75,
   "metadata": {
    "collapsed": true,
    "tags": [
     "s1",
     "l1",
     "ans"
    ]
   },
   "outputs": [],
   "source": [
    "credit_rating_cpd = TabularCPD(variable='CR', variable_card=4,\n",
    "                values=[[0.85, 0.04, 0.12, 0.02, 0.13, 0.01],\n",
    "                        [0.1, 0.07, 0.65, 0.07, 0.2, 0.04],\n",
    "                        [0.04, 0.75, 0.15, 0.25, 0.45, 0.25],\n",
    "                        [0.01, 0.14, 0.08, 0.66, 0.22, 0.7]],\n",
    "                evidence=['OL', 'PH'], evidence_card=[3, 2])\n",
    "\n",
    "interest_rate_cpd = TabularCPD(variable='IR', variable_card=3,\n",
    "                values=[[0.01, 0.05, 0.12, 0.02, 0.05, 0.15, 0.3, 0.4, 0.55, 0.57, 0.83, 0.94],\n",
    "                        [0.09, 0.7, 0.7, 0.23, 0.4, 0.45, 0.6, 0.55, 0.4, 0.4, 0.15, 0.05],\n",
    "                        [0.9, 0.25, 0.18, 0.75, 0.55, 0.4, 0.1, 0.05, 0.05, 0.03, 0.02, 0.01]],\n",
    "                evidence=['CR', 'IL'], evidence_card=[4, 3])\n",
    "\n",
    "Outstanding_loan_cpd = TabularCPD(variable='OL', variable_card=3, values=[[0.15, 0.55, 0.3]])\n",
    "\n",
    "Payment_history_cpd = TabularCPD(variable='PH', variable_card=2, values=[[0.8, 0.2]])\n",
    "\n",
    "Income_level_cpd = TabularCPD(variable='IL', variable_card=3, values=[[0.1, 0.6, 0.3]])\n"
   ]
  },
  {
   "cell_type": "code",
   "execution_count": 76,
   "metadata": {
    "tags": [
     "s1",
     "hid",
     "l1"
    ]
   },
   "outputs": [
    {
     "name": "stdout",
     "output_type": "stream",
     "text": [
      "continue\n"
     ]
    }
   ],
   "source": [
    "ref_tmp_var = False\n",
    "\n",
    "import numpy as np\n",
    "credit_rating_cpd = TabularCPD(\n",
    "                variable='CR',\n",
    "                variable_card=4,\n",
    "                values=[[0.85, 0.04, 0.12, 0.02, 0.13, 0.01],\n",
    "                        [0.1, 0.07, 0.65, 0.07, 0.2, 0.04],\n",
    "                        [0.04, 0.75, 0.15, 0.25, 0.45, 0.25],\n",
    "                        [0.01, 0.14, 0.08, 0.66, 0.22, 0.7]],\n",
    "                evidence=['OL', 'PH'],\n",
    "                evidence_card=[3, 2])\n",
    "\n",
    "interest_rate_cpd = TabularCPD(\n",
    "                variable='IR',\n",
    "                variable_card=3,\n",
    "                values=[[0.01, 0.05, 0.12, 0.02, 0.05, 0.15, 0.3, 0.4, 0.55, 0.57, 0.83, 0.94],\n",
    "                        [0.09, 0.7, 0.7, 0.23, 0.4, 0.45, 0.6, 0.55, 0.4, 0.4, 0.15, 0.05],\n",
    "                        [0.9, 0.25, 0.18, 0.75, 0.55, 0.4, 0.1, 0.05, 0.05, 0.03, 0.02, 0.01]],\n",
    "                evidence=['CR', 'IL'],\n",
    "                evidence_card=[4, 3])\n",
    "\n",
    "Outstanding_loan_cpd = TabularCPD(\n",
    "                variable='OL',\n",
    "                variable_card=3,\n",
    "                values=[[0.15, 0.55, 0.3]])\n",
    "\n",
    "Payment_history_cpd = TabularCPD(\n",
    "                variable='PH',\n",
    "                variable_card=2,\n",
    "                values=[[0.8, 0.2]])\n",
    "\n",
    "Income_level_cpd = TabularCPD(\n",
    "                variable='IL',\n",
    "                variable_card=3,\n",
    "                values=[[0.1, 0.6, 0.3]])\n",
    "try:\n",
    "    if (np.all(credit_rating_cpd.get_values() == credit_rating_cpd.get_values())):\n",
    "        ref_assert_var = True\n",
    "        ref_tmp_var = True\n",
    "    else:\n",
    "        ref_assert_var = False\n",
    "        print('Please follow the instructions given and use the same variables provided in the instructions.')\n",
    "except Exception:\n",
    "    print('Please follow the instructions given and use the same variables provided in the instructions.')\n",
    "\n",
    "assert ref_tmp_var"
   ]
  },
  {
   "cell_type": "markdown",
   "metadata": {
    "tags": [
     "l2",
     "content",
     "s2"
    ]
   },
   "source": [
    "## Building the Credit Approval Model\n",
    "\n",
    "You can by specify the dependencies in the Bayesian Network as arguments to BayesianModel() instance:\n",
    "    \n",
    "``` python\n",
    "[('OL', 'CR'),\n",
    "('PH', 'CR'),\n",
    "('IL', 'IR'),\n",
    "('CR', 'IR')])\n",
    "```\n",
    "\n",
    "* Assign the instance to credit_approval_model."
   ]
  },
  {
   "cell_type": "code",
   "execution_count": 77,
   "metadata": {
    "collapsed": true,
    "tags": [
     "l2",
     "ce",
     "s2"
    ]
   },
   "outputs": [],
   "source": [
    "credit_approval_model = BayesianModel()"
   ]
  },
  {
   "cell_type": "markdown",
   "metadata": {
    "tags": [
     "l2",
     "s2",
     "hint"
    ]
   },
   "source": [
    "Use BayesianModel([('OL', 'CR'),\n",
    "                             ('PH', 'CR'),\n",
    "                             ('IL', 'IR'),\n",
    "                             ('CR', 'IR')])"
   ]
  },
  {
   "cell_type": "code",
   "execution_count": 78,
   "metadata": {
    "collapsed": true,
    "tags": [
     "l2",
     "s2",
     "ans"
    ]
   },
   "outputs": [],
   "source": [
    "\n",
    "credit_approval_model = BayesianModel([('OL', 'CR'),\n",
    "                             ('PH', 'CR'),\n",
    "                             ('IL', 'IR'),\n",
    "                             ('CR', 'IR')])\n"
   ]
  },
  {
   "cell_type": "code",
   "execution_count": 79,
   "metadata": {
    "tags": [
     "l2",
     "hid",
     "s2"
    ]
   },
   "outputs": [
    {
     "name": "stdout",
     "output_type": "stream",
     "text": [
      "continue\n"
     ]
    }
   ],
   "source": [
    "ref_tmp_var = False\n",
    "\n",
    "a =1\n",
    "try:\n",
    "    if a == 1:\n",
    "        ref_assert_var = True\n",
    "        ref_tmp_var = True\n",
    "    else:\n",
    "        ref_assert_var = False\n",
    "        print('Please follow the instructions given and use the same variables provided in the instructions.')\n",
    "except Exception:\n",
    "    print('Please follow the instructions given and use the same variables provided in the instructions.')\n",
    "\n",
    "assert ref_tmp_var"
   ]
  },
  {
   "cell_type": "markdown",
   "metadata": {
    "tags": [
     "l3",
     "s3",
     "content"
    ]
   },
   "source": [
    "## Add CPDs\n",
    "\n",
    "Add CPDs using add_cpds() and validate the model."
   ]
  },
  {
   "cell_type": "code",
   "execution_count": 80,
   "metadata": {
    "collapsed": true,
    "tags": [
     "l3",
     "s3",
     "ce"
    ]
   },
   "outputs": [],
   "source": [
    "credit_approval_model.add_cpds(credit_rating_cpd, interest_rate_cpd, Outstanding_loan_cpd, Payment_history_cpd, Income_level_cpd)"
   ]
  },
  {
   "cell_type": "markdown",
   "metadata": {
    "tags": [
     "l3",
     "s3",
     "hint"
    ]
   },
   "source": []
  },
  {
   "cell_type": "code",
   "execution_count": 81,
   "metadata": {
    "tags": [
     "l3",
     "s3",
     "ans"
    ]
   },
   "outputs": [
    {
     "data": {
      "text/plain": [
       "True"
      ]
     },
     "execution_count": 81,
     "metadata": {},
     "output_type": "execute_result"
    }
   ],
   "source": [
    "credit_approval_model.check_model()\n"
   ]
  },
  {
   "cell_type": "code",
   "execution_count": 82,
   "metadata": {
    "tags": [
     "l3",
     "s3",
     "hid"
    ]
   },
   "outputs": [
    {
     "name": "stdout",
     "output_type": "stream",
     "text": [
      "continue\n"
     ]
    }
   ],
   "source": [
    "ref_tmp_var = False\n",
    "\n",
    "a = 1\n",
    "try:\n",
    "    if a == 1:\n",
    "        ref_assert_var = True\n",
    "        ref_tmp_var = True\n",
    "    else:\n",
    "        ref_assert_var = False\n",
    "        print('Please follow the instructions given and use the same variables provided in the instructions.')\n",
    "except Exception:\n",
    "    print('Please follow the instructions given and use the same variables provided in the instructions.')\n",
    "\n",
    "assert ref_tmp_var"
   ]
  },
  {
   "cell_type": "markdown",
   "metadata": {
    "tags": [
     "l4",
     "s4",
     "content"
    ]
   },
   "source": [
    "## Obtain CPDs, Leaves and Independencies\n",
    "\n",
    "You can now look at the CPDs, leaves, independencies."
   ]
  },
  {
   "cell_type": "code",
   "execution_count": 83,
   "metadata": {
    "collapsed": true,
    "tags": [
     "l4",
     "s4",
     "ce"
    ]
   },
   "outputs": [],
   "source": [
    "#"
   ]
  },
  {
   "cell_type": "markdown",
   "metadata": {
    "tags": [
     "s4",
     "l4",
     "hint"
    ]
   },
   "source": []
  },
  {
   "cell_type": "code",
   "execution_count": 84,
   "metadata": {
    "tags": [
     "s4",
     "l4",
     "ans"
    ]
   },
   "outputs": [
    {
     "data": {
      "text/plain": [
       "['IR']"
      ]
     },
     "execution_count": 84,
     "metadata": {},
     "output_type": "execute_result"
    }
   ],
   "source": [
    "credit_approval_model.get_leaves()"
   ]
  },
  {
   "cell_type": "code",
   "execution_count": 85,
   "metadata": {
    "tags": [
     "s4",
     "hid",
     "l4"
    ]
   },
   "outputs": [
    {
     "name": "stdout",
     "output_type": "stream",
     "text": [
      "continue\n"
     ]
    }
   ],
   "source": [
    "ref_tmp_var = False\n",
    "\n",
    "a = 1\n",
    "try:\n",
    "    if a == 1:\n",
    "        ref_assert_var = True\n",
    "        ref_tmp_var = True\n",
    "    else:\n",
    "        ref_assert_var = False\n",
    "        print('Please follow the instructions given and use the same variables provided in the instructions.')\n",
    "except Exception:\n",
    "    print('Please follow the instructions given and use the same variables provided in the instructions.')\n",
    "\n",
    "assert ref_tmp_var"
   ]
  },
  {
   "cell_type": "markdown",
   "metadata": {
    "tags": [
     "l5",
     "content",
     "s5"
    ]
   },
   "source": [
    "## Verifying the CPDs\n",
    "\n",
    "``` python\n",
    "for cpd in credit_approval_model.get_cpds():\n",
    "    print(\"CPD of {variable}:\".format(variable=cpd.variable))\n",
    "    print(cpd)\n",
    "```"
   ]
  },
  {
   "cell_type": "code",
   "execution_count": 86,
   "metadata": {
    "collapsed": true,
    "tags": [
     "l5",
     "ce",
     "s5"
    ]
   },
   "outputs": [],
   "source": [
    "# Iterate over credit_approval_model.get_cpds()\n"
   ]
  },
  {
   "cell_type": "markdown",
   "metadata": {
    "tags": [
     "l5",
     "s5",
     "hint"
    ]
   },
   "source": []
  },
  {
   "cell_type": "code",
   "execution_count": 87,
   "metadata": {
    "tags": [
     "l5",
     "s5",
     "ans"
    ]
   },
   "outputs": [
    {
     "name": "stdout",
     "output_type": "stream",
     "text": [
      "CPD of CR:\n",
      "╒══════╤══════╤══════╤══════╤══════╤══════╤══════╕\n",
      "│ OL   │ OL_0 │ OL_0 │ OL_1 │ OL_1 │ OL_2 │ OL_2 │\n",
      "├──────┼──────┼──────┼──────┼──────┼──────┼──────┤\n",
      "│ PH   │ PH_0 │ PH_1 │ PH_0 │ PH_1 │ PH_0 │ PH_1 │\n",
      "├──────┼──────┼──────┼──────┼──────┼──────┼──────┤\n",
      "│ CR_0 │ 0.85 │ 0.04 │ 0.12 │ 0.02 │ 0.13 │ 0.01 │\n",
      "├──────┼──────┼──────┼──────┼──────┼──────┼──────┤\n",
      "│ CR_1 │ 0.1  │ 0.07 │ 0.65 │ 0.07 │ 0.2  │ 0.04 │\n",
      "├──────┼──────┼──────┼──────┼──────┼──────┼──────┤\n",
      "│ CR_2 │ 0.04 │ 0.75 │ 0.15 │ 0.25 │ 0.45 │ 0.25 │\n",
      "├──────┼──────┼──────┼──────┼──────┼──────┼──────┤\n",
      "│ CR_3 │ 0.01 │ 0.14 │ 0.08 │ 0.66 │ 0.22 │ 0.7  │\n",
      "╘══════╧══════╧══════╧══════╧══════╧══════╧══════╛\n",
      "CPD of IR:\n",
      "╒══════╤══════╤══════╤══════╤══════╤══════╤══════╤══════╤══════╤══════╤══════╤══════╤══════╕\n",
      "│ CR   │ CR_0 │ CR_0 │ CR_0 │ CR_1 │ CR_1 │ CR_1 │ CR_2 │ CR_2 │ CR_2 │ CR_3 │ CR_3 │ CR_3 │\n",
      "├──────┼──────┼──────┼──────┼──────┼──────┼──────┼──────┼──────┼──────┼──────┼──────┼──────┤\n",
      "│ IL   │ IL_0 │ IL_1 │ IL_2 │ IL_0 │ IL_1 │ IL_2 │ IL_0 │ IL_1 │ IL_2 │ IL_0 │ IL_1 │ IL_2 │\n",
      "├──────┼──────┼──────┼──────┼──────┼──────┼──────┼──────┼──────┼──────┼──────┼──────┼──────┤\n",
      "│ IR_0 │ 0.01 │ 0.05 │ 0.12 │ 0.02 │ 0.05 │ 0.15 │ 0.3  │ 0.4  │ 0.55 │ 0.57 │ 0.83 │ 0.94 │\n",
      "├──────┼──────┼──────┼──────┼──────┼──────┼──────┼──────┼──────┼──────┼──────┼──────┼──────┤\n",
      "│ IR_1 │ 0.09 │ 0.7  │ 0.7  │ 0.23 │ 0.4  │ 0.45 │ 0.6  │ 0.55 │ 0.4  │ 0.4  │ 0.15 │ 0.05 │\n",
      "├──────┼──────┼──────┼──────┼──────┼──────┼──────┼──────┼──────┼──────┼──────┼──────┼──────┤\n",
      "│ IR_2 │ 0.9  │ 0.25 │ 0.18 │ 0.75 │ 0.55 │ 0.4  │ 0.1  │ 0.05 │ 0.05 │ 0.03 │ 0.02 │ 0.01 │\n",
      "╘══════╧══════╧══════╧══════╧══════╧══════╧══════╧══════╧══════╧══════╧══════╧══════╧══════╛\n",
      "CPD of OL:\n",
      "╒══════╤══════╕\n",
      "│ OL_0 │ 0.15 │\n",
      "├──────┼──────┤\n",
      "│ OL_1 │ 0.55 │\n",
      "├──────┼──────┤\n",
      "│ OL_2 │ 0.3  │\n",
      "╘══════╧══════╛\n",
      "CPD of PH:\n",
      "╒══════╤═════╕\n",
      "│ PH_0 │ 0.8 │\n",
      "├──────┼─────┤\n",
      "│ PH_1 │ 0.2 │\n",
      "╘══════╧═════╛\n",
      "CPD of IL:\n",
      "╒══════╤═════╕\n",
      "│ IL_0 │ 0.1 │\n",
      "├──────┼─────┤\n",
      "│ IL_1 │ 0.6 │\n",
      "├──────┼─────┤\n",
      "│ IL_2 │ 0.3 │\n",
      "╘══════╧═════╛\n"
     ]
    }
   ],
   "source": [
    "for cpd in credit_approval_model.get_cpds():\n",
    "    print(\"CPD of {variable}:\".format(variable=cpd.variable))\n",
    "    print(cpd)"
   ]
  },
  {
   "cell_type": "code",
   "execution_count": 88,
   "metadata": {
    "tags": [
     "hid",
     "l5",
     "s5"
    ]
   },
   "outputs": [
    {
     "name": "stdout",
     "output_type": "stream",
     "text": [
      "continue\n"
     ]
    }
   ],
   "source": [
    "ref_tmp_var = False\n",
    "\n",
    "a = 1\n",
    "try:\n",
    "    if a == 1:\n",
    "        ref_assert_var = True\n",
    "        ref_tmp_var = True\n",
    "    else:\n",
    "        ref_assert_var = False\n",
    "        print('Please follow the instructions given and use the same variables provided in the instructions.')\n",
    "except Exception:\n",
    "    print('Please follow the instructions given and use the same variables provided in the instructions.')\n",
    "\n",
    "assert ref_tmp_var"
   ]
  },
  {
   "cell_type": "markdown",
   "metadata": {
    "tags": [
     "content",
     "l6",
     "s6"
    ]
   },
   "source": [
    "## Computations of Probabilities\n",
    "\n",
    "``` python\n",
    "\n",
    "from pgmpy.inference.base import Inference\n",
    "from pgmpy.factors import factor_product\n",
    "\n",
    "import itertools\n",
    "\n",
    "\n",
    "class SimpleInference(Inference):\n",
    "    def query(self, var, evidence):\n",
    "        # self.factors is a dict of the form of {node: [factors_involving_node]}\n",
    "        factors_list = set(itertools.chain(*self.factors.values()))\n",
    "        product = factor_product(*factors_list)\n",
    "        reduced_prod = product.reduce(evidence, inplace=False)\n",
    "        reduced_prod.normalize()\n",
    "        var_to_marg = set(self.model.nodes()) - set(var) - set([state[0] for state in evidence])\n",
    "        marg_prod = reduced_prod.marginalize(var_to_marg, inplace=False)\n",
    "        return marg_prod\n",
    "```\n",
    "\n",
    "### Computing CPDs against Evidence\n",
    "\n",
    "* Query IR|OL=0 and assign to ir."
   ]
  },
  {
   "cell_type": "code",
   "execution_count": 89,
   "metadata": {
    "collapsed": true,
    "tags": [
     "ce",
     "l6",
     "s6"
    ]
   },
   "outputs": [],
   "source": [
    "from pgmpy.inference.base import Inference\n",
    "from pgmpy.factors import factor_product\n",
    "\n",
    "import itertools\n",
    "\n",
    "\n",
    "class SimpleInference(Inference):\n",
    "    def query(self, var, evidence):\n",
    "        # self.factors is a dict of the form of {node: [factors_involving_node]}\n",
    "        factors_list = set(itertools.chain(*self.factors.values()))\n",
    "        product = factor_product(*factors_list)\n",
    "        reduced_prod = product.reduce(evidence, inplace=False)\n",
    "        reduced_prod.normalize()\n",
    "        var_to_marg = set(self.model.nodes()) - set(var) - set([state[0] for state in evidence])\n",
    "        marg_prod = reduced_prod.marginalize(var_to_marg, inplace=False)\n",
    "        return marg_prod"
   ]
  },
  {
   "cell_type": "markdown",
   "metadata": {
    "tags": [
     "l6",
     "s6",
     "hint"
    ]
   },
   "source": [
    "Use SimpleInference(credit_approval_model)"
   ]
  },
  {
   "cell_type": "code",
   "execution_count": 90,
   "metadata": {
    "tags": [
     "l6",
     "s6",
     "ans"
    ]
   },
   "outputs": [
    {
     "name": "stdout",
     "output_type": "stream",
     "text": [
      "╒══════╤═══════════╕\n",
      "│ IR   │   phi(IR) │\n",
      "╞══════╪═══════════╡\n",
      "│ IR_0 │    0.1626 │\n",
      "├──────┼───────────┤\n",
      "│ IR_1 │    0.5751 │\n",
      "├──────┼───────────┤\n",
      "│ IR_2 │    0.2623 │\n",
      "╘══════╧═══════════╛\n"
     ]
    }
   ],
   "source": [
    "infer = SimpleInference(credit_approval_model)\n",
    "ir = infer.query(var=['IR'], evidence=[('OL', 0)])\n",
    "print(ir)"
   ]
  },
  {
   "cell_type": "code",
   "execution_count": 91,
   "metadata": {
    "tags": [
     "hid",
     "s6",
     "l6"
    ]
   },
   "outputs": [
    {
     "name": "stdout",
     "output_type": "stream",
     "text": [
      "continue\n"
     ]
    }
   ],
   "source": [
    "ref_tmp_var = False\n",
    "\n",
    "import numpy as np\n",
    "\n",
    "try:\n",
    "    if abs(ir.values[0] - 0.1626 ) < 0.1:\n",
    "        ref_assert_var = True\n",
    "        ref_tmp_var = True\n",
    "    else:\n",
    "        ref_assert_var = False\n",
    "        print('Please follow the instructions given and use the same variables provided in the instructions.')\n",
    "except Exception:\n",
    "    print('Please follow the instructions given and use the same variables provided in the instructions.')\n",
    "\n",
    "assert ref_tmp_var"
   ]
  },
  {
   "cell_type": "markdown",
   "metadata": {
    "tags": [
     "l7",
     "s7",
     "content"
    ]
   },
   "source": [
    "### Computing CPDs against Evidence of OL and CR\n",
    "\n",
    "* Query IR|OL=0, CR=0 and assign to ir."
   ]
  },
  {
   "cell_type": "code",
   "execution_count": 92,
   "metadata": {
    "collapsed": true,
    "tags": [
     "l7",
     "s7",
     "ce"
    ]
   },
   "outputs": [],
   "source": [
    "#"
   ]
  },
  {
   "cell_type": "markdown",
   "metadata": {
    "tags": [
     "l7",
     "s7",
     "hint"
    ]
   },
   "source": [
    "use SimpleInference(credit_approval_model)"
   ]
  },
  {
   "cell_type": "code",
   "execution_count": 93,
   "metadata": {
    "tags": [
     "l7",
     "s7",
     "ans"
    ]
   },
   "outputs": [
    {
     "name": "stdout",
     "output_type": "stream",
     "text": [
      "╒══════╤═══════════╕\n",
      "│ IR   │   phi(IR) │\n",
      "╞══════╪═══════════╡\n",
      "│ IR_0 │    0.0670 │\n",
      "├──────┼───────────┤\n",
      "│ IR_1 │    0.6390 │\n",
      "├──────┼───────────┤\n",
      "│ IR_2 │    0.2940 │\n",
      "╘══════╧═══════════╛\n"
     ]
    }
   ],
   "source": [
    "infer = SimpleInference(credit_approval_model)\n",
    "ir = infer.query(var=['IR'], evidence=[('OL', 0),('CR', 0)])\n",
    "print(ir)"
   ]
  },
  {
   "cell_type": "code",
   "execution_count": 94,
   "metadata": {
    "tags": [
     "l7",
     "hid",
     "s7"
    ]
   },
   "outputs": [
    {
     "name": "stdout",
     "output_type": "stream",
     "text": [
      "continue\n"
     ]
    }
   ],
   "source": [
    "ref_tmp_var = False\n",
    "\n",
    "a = 1\n",
    "try:\n",
    "    if a == 1:\n",
    "        ref_assert_var = True\n",
    "        ref_tmp_var = True\n",
    "    else:\n",
    "        ref_assert_var = False\n",
    "        print('Please follow the instructions given and use the same variables provided in the instructions.')\n",
    "except Exception:\n",
    "    print('Please follow the instructions given and use the same variables provided in the instructions.')\n",
    "\n",
    "assert ref_tmp_var"
   ]
  },
  {
   "cell_type": "markdown",
   "metadata": {
    "tags": [
     "s8",
     "content",
     "l8"
    ]
   },
   "source": [
    "### Computing CPDs against additional Evidence of OL and CR\n",
    "\n",
    "* Query IR|OL=2, CR=0 and assign to ir."
   ]
  },
  {
   "cell_type": "code",
   "execution_count": 95,
   "metadata": {
    "collapsed": true,
    "tags": [
     "s8",
     "ce",
     "l8"
    ]
   },
   "outputs": [],
   "source": [
    "#"
   ]
  },
  {
   "cell_type": "markdown",
   "metadata": {
    "tags": [
     "s8",
     "l8",
     "hint"
    ]
   },
   "source": [
    "use SimpleInference(credit_approval_model)"
   ]
  },
  {
   "cell_type": "code",
   "execution_count": 96,
   "metadata": {
    "tags": [
     "s8",
     "l8",
     "ans"
    ]
   },
   "outputs": [
    {
     "name": "stdout",
     "output_type": "stream",
     "text": [
      "╒══════╤═══════════╕\n",
      "│ IR   │   phi(IR) │\n",
      "╞══════╪═══════════╡\n",
      "│ IR_0 │    0.0670 │\n",
      "├──────┼───────────┤\n",
      "│ IR_1 │    0.6390 │\n",
      "├──────┼───────────┤\n",
      "│ IR_2 │    0.2940 │\n",
      "╘══════╧═══════════╛\n"
     ]
    }
   ],
   "source": [
    "infer = SimpleInference(credit_approval_model)\n",
    "ir = infer.query(var=['IR'], evidence=[('OL', 2), ('CR', 0)])\n",
    "print(ir)"
   ]
  },
  {
   "cell_type": "code",
   "execution_count": 97,
   "metadata": {
    "tags": [
     "s8",
     "l8",
     "hid"
    ]
   },
   "outputs": [
    {
     "name": "stdout",
     "output_type": "stream",
     "text": [
      "continue\n"
     ]
    }
   ],
   "source": [
    "ref_tmp_var = False\n",
    "\n",
    "a = 1\n",
    "try:\n",
    "    if a == 1:\n",
    "        ref_assert_var = True\n",
    "        ref_tmp_var = True\n",
    "    else:\n",
    "        ref_assert_var = False\n",
    "        print('Please follow the instructions given and use the same variables provided in the instructions.')\n",
    "except Exception:\n",
    "    print('Please follow the instructions given and use the same variables provided in the instructions.')\n",
    "\n",
    "assert ref_tmp_var"
   ]
  },
  {
   "cell_type": "markdown",
   "metadata": {
    "tags": [
     "l9",
     "content",
     "s9"
    ]
   },
   "source": [
    "## D-separation \n",
    "\n",
    "* Consider all possible paths from any node in A to any node in B\n",
    "* If all possible paths are blocked then A is d-separated from B by C, then $A \\perp B \\space | \\space C$\n",
    "* Is  $A \\perp B \\space | \\space C$?\n",
    "\n",
    "<img src=\"../images/d-sep-1.png\", style=\"height:60vh;\">\n",
    "\n",
    "Path from a to b is\n",
    "Not blocked by f because \n",
    "*  It is a tail-to-tail node\n",
    "*  It is not observed\n",
    "\n",
    "Not blocked by e because\n",
    "\n",
    "*  Although it is a head-to-head node, it has a descendent c in the conditioning set\n",
    "*  Thus does not follow from this graph\n",
    "\n",
    "### D-Separation - Example 2\n",
    "\n",
    "* Is  $A \\perp B \\space | \\space C$?\n",
    "\n",
    "<img src=\"../images/d-sep-2.png\", style=\"height:60vh;\">\n",
    "\n",
    "\n",
    "\n",
    "### D-Separation in Credit Approval Model\n",
    "\n",
    "<img src=\"../images/credit_approval.png\", style=\"height:50vh;\">\n",
    "\n",
    "* Is $IL \\perp OL \\space | \\space IR$? Change the probabilites and demonstrate your result. Assign the True/False result to IL_OL"
   ]
  },
  {
   "cell_type": "code",
   "execution_count": 98,
   "metadata": {
    "collapsed": true,
    "tags": [
     "l9",
     "ce",
     "s9"
    ]
   },
   "outputs": [],
   "source": [
    "infer = SimpleInference(credit_approval_model)"
   ]
  },
  {
   "cell_type": "markdown",
   "metadata": {
    "tags": [
     "s9",
     "l9",
     "hint"
    ]
   },
   "source": [
    "Use OL and toggle IR to observe the independence."
   ]
  },
  {
   "cell_type": "code",
   "execution_count": 99,
   "metadata": {
    "tags": [
     "s9",
     "l9",
     "ans"
    ]
   },
   "outputs": [
    {
     "name": "stdout",
     "output_type": "stream",
     "text": [
      "╒══════╤═══════════╕\n",
      "│ IL   │   phi(IL) │\n",
      "╞══════╪═══════════╡\n",
      "│ IL_0 │    0.0610 │\n",
      "├──────┼───────────┤\n",
      "│ IL_1 │    0.5508 │\n",
      "├──────┼───────────┤\n",
      "│ IL_2 │    0.3882 │\n",
      "╘══════╧═══════════╛ ╒══════╤═══════════╕\n",
      "│ IL   │   phi(IL) │\n",
      "╞══════╪═══════════╡\n",
      "│ IL_0 │    0.0797 │\n",
      "├──────┼───────────┤\n",
      "│ IL_1 │    0.6229 │\n",
      "├──────┼───────────┤\n",
      "│ IL_2 │    0.2974 │\n",
      "╘══════╧═══════════╛\n"
     ]
    }
   ],
   "source": [
    "il_ol1 = infer.query(var=['IL'], evidence=[('OL', 1), ('IR', 0)])\n",
    "il_ol2 = infer.query(var=['IL'], evidence=[('OL', 1), ('IR', 1)])\n",
    "print(il_ol1, il_ol2)\n",
    "IL_OL = False"
   ]
  },
  {
   "cell_type": "code",
   "execution_count": 100,
   "metadata": {
    "tags": [
     "l9",
     "hid",
     "s9"
    ]
   },
   "outputs": [
    {
     "name": "stdout",
     "output_type": "stream",
     "text": [
      "continue\n"
     ]
    }
   ],
   "source": [
    "ref_tmp_var = False\n",
    "\n",
    "try:\n",
    "    if IL_OL is False: \n",
    "        ref_assert_var = True\n",
    "        ref_tmp_var = True\n",
    "    else:\n",
    "        ref_assert_var = False\n",
    "        print('Please follow the instructions given and use the same variables provided in the instructions.')\n",
    "except Exception:\n",
    "    print('Please follow the instructions given and use the same variables provided in the instructions.')\n",
    "\n",
    "assert ref_tmp_var"
   ]
  }
 ],
 "metadata": {
  "executed_sections": [],
  "kernelspec": {
   "display_name": "Python 3",
   "language": "python",
   "name": "python3"
  },
  "language_info": {
   "codemirror_mode": {
    "name": "ipython",
    "version": 3
   },
   "file_extension": ".py",
   "mimetype": "text/x-python",
   "name": "python",
   "nbconvert_exporter": "python",
   "pygments_lexer": "ipython3",
   "version": "3.6.1"
  }
 },
 "nbformat": 4,
 "nbformat_minor": 2
}
