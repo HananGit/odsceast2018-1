{
 "cells": [
  {
   "cell_type": "markdown",
   "metadata": {
    "tags": [
     "s1",
     "content",
     "l1"
    ]
   },
   "source": [
    "# Fraud Modeling Example with pgmpy\n",
    "\n",
    "pgmpy is one of the popular packages to do Bayesian Network modeling. We shall continue to use the fraud modeling example to visualize our network. pgmpy is good for simpler problems, to visualize the indepencies and CPDs. It doesn't work very well for large dimensional problems. There are other toolkits which are available such as:\n",
    "\n",
    "* WINMINE by Microsoft: https://www.microsoft.com/en-us/research/project/winmine-toolkit/\n",
    "* pyro: Probabilistic Programming by Uber - https://github.com/uber/pyro\n",
    "\n",
    "You can specify various conditional probability distributions by providing the evidence and number of variables. For example, to specify the gas CPD:\n",
    "\n",
    "<img src=\"../images/bayesian_network.png\", style=\"width: 800px;\">\n",
    "\n",
    "\n",
    "``` python\n",
    "\n",
    "gas_cpd = TabularCPD(variable='G',\n",
    "                     variable_card=2,\n",
    "                     values=[[.2, 0.01],\n",
    "                           [.8, 0.99]],\n",
    "                     evidence=['F'],\n",
    "                     evidence_card=[2])\n",
    "\n",
    "```\n",
    "\n",
    "The fraud CPD can be specified as:\n",
    "\n",
    "``` python\n",
    "\n",
    "fraud_cpd = TabularCPD(variable='F',\n",
    "                       variable_card=2,\n",
    "                       values=[[.1, .9]])\n",
    "```\n",
    "\n",
    "## Specify the CPDs\n",
    "\n",
    "* Given the above examples, specify all CPDs for the fraud model:\n",
    "* jewelry_cpd\n",
    "* age_cpd\n",
    "* fraud_cpd\n",
    "* sex_cpd"
   ]
  },
  {
   "cell_type": "code",
   "execution_count": 1,
   "metadata": {
    "collapsed": true,
    "tags": [
     "s1",
     "ce",
     "l1"
    ]
   },
   "outputs": [],
   "source": [
    "from pgmpy.factors.discrete import TabularCPD\n",
    "from pgmpy.models import BayesianModel\n",
    "\n",
    "\n",
    "gas_cpd = TabularCPD(variable='G',\n",
    "                     variable_card=2,\n",
    "                     values=[[.2, 0.01],\n",
    "                             [.8, 0.99]],\n",
    "                     evidence=['F'],\n",
    "                     evidence_card=[2])\n",
    "\n",
    "fraud_cpd = TabularCPD(variable='F',\n",
    "                       variable_card=2,\n",
    "                       values=[[.1, .9]])"
   ]
  },
  {
   "cell_type": "markdown",
   "metadata": {
    "tags": [
     "s1",
     "l1",
     "hint"
    ]
   },
   "source": [
    "Form the table for jewelry cpd by specifying the order as A, S and F. Use this table as entry points to the values."
   ]
  },
  {
   "cell_type": "code",
   "execution_count": 2,
   "metadata": {
    "collapsed": true,
    "tags": [
     "s1",
     "l1",
     "ans"
    ]
   },
   "outputs": [],
   "source": [
    "jewelry_cpd = TabularCPD(\n",
    "                variable='J',\n",
    "                variable_card=2,\n",
    "                values=[[.2, .95, .05, .95, .04, .95, .02, .95, .02, .95, .1, .95],\n",
    "                        [.8, .05, .95, .05, .96, .05, .98, .05, .98, .05, .9, .05]],\n",
    "                evidence=['A', 'S', 'F'],\n",
    "                evidence_card=[3, 2, 2])\n",
    "\n",
    "age_cpd = TabularCPD(variable='A',\n",
    "                     variable_card=3,\n",
    "                     values=[[0.25, 0.4, 0.35]])\n",
    "\n",
    "sex_cpd = TabularCPD(variable='S',\n",
    "                    variable_card=2,\n",
    "                    values=[[0.5, 0.5]])\n",
    "\n",
    "gas_cpd = TabularCPD(variable='G',\n",
    "                     variable_card=2,\n",
    "                     values=[[.2, 0.01],\n",
    "                             [.8, 0.99]],\n",
    "                     evidence=['F'],\n",
    "                     evidence_card=[2])"
   ]
  },
  {
   "cell_type": "code",
   "execution_count": 3,
   "metadata": {
    "tags": [
     "s1",
     "hid",
     "l1"
    ]
   },
   "outputs": [],
   "source": [
    "ref_tmp_var = False\n",
    "\n",
    "import numpy as np\n",
    "\n",
    "jewelry_cpd_ = TabularCPD(\n",
    "                variable='J',\n",
    "                variable_card=2,\n",
    "                values=[[.2, .95, .05, .95, .04, .95, .02, .95, .02, .95, .1, .95],\n",
    "                        [.8, .05, .95, .05, .96, .05, .98, .05, .98, .05, .9, .05]],\n",
    "                evidence=['A', 'S', 'F'],\n",
    "                evidence_card=[3, 2, 2])\n",
    "\n",
    "age_cpd_ = TabularCPD(variable='A',\n",
    "                     variable_card=3,\n",
    "                     values=[[0.25, 0.4, 0.35]])\n",
    "\n",
    "sex_cpd_ = TabularCPD(variable='S',\n",
    "                    variable_card=2,\n",
    "                    values=[[0.5, 0.5]])\n",
    "\n",
    "gas_cpd_ = TabularCPD(variable='G',\n",
    "                     variable_card=2,\n",
    "                     values=[[.2, 0.01],\n",
    "                             [.8, 0.99]],\n",
    "                     evidence=['F'],\n",
    "                     evidence_card=[2])\n",
    "\n",
    "try:\n",
    "    if (np.all(gas_cpd.get_values() == gas_cpd_.get_values()) and\n",
    "    (np.all(age_cpd.get_values() == age_cpd_.get_values()))):\n",
    "        ref_assert_var = True\n",
    "        ref_tmp_var = True\n",
    "    else:\n",
    "        ref_assert_var = False\n",
    "        print('Please follow the instructions given and use the same variables provided in the instructions.')\n",
    "except Exception:\n",
    "    print('Please follow the instructions given and use the same variables provided in the instructions.')\n",
    "\n",
    "assert ref_tmp_var"
   ]
  },
  {
   "cell_type": "markdown",
   "metadata": {
    "tags": [
     "l2",
     "content",
     "s2"
    ]
   },
   "source": [
    "## Building the Fraud Model\n",
    "\n",
    "You can by specify the dependencies in the Bayesian Network as arguments to BayesianModel() instance:\n",
    "    \n",
    "``` python\n",
    "[('F', 'J'),\n",
    "('A', 'J'),\n",
    "('S', 'J'),\n",
    "('F', 'G')]\n",
    "```\n",
    "\n",
    "* Assign the instance to fraud_model."
   ]
  },
  {
   "cell_type": "code",
   "execution_count": 4,
   "metadata": {
    "collapsed": true,
    "tags": [
     "l2",
     "ce",
     "s2"
    ]
   },
   "outputs": [],
   "source": [
    "fraud_model = BayesianModel()"
   ]
  },
  {
   "cell_type": "markdown",
   "metadata": {
    "tags": [
     "l2",
     "s2",
     "hint"
    ]
   },
   "source": [
    "Use BayesianModel([('F', 'J'),\n",
    "                   ('A', 'J'),\n",
    "                   ('S', 'J'),\n",
    "                   ('F', 'G')]) "
   ]
  },
  {
   "cell_type": "code",
   "execution_count": 5,
   "metadata": {
    "collapsed": true,
    "tags": [
     "l2",
     "s2",
     "ans"
    ]
   },
   "outputs": [],
   "source": [
    "fraud_model = BayesianModel()\n",
    "fraud_model = BayesianModel([('F', 'J'),\n",
    "                             ('A', 'J'),\n",
    "                             ('S', 'J'),\n",
    "                             ('F', 'G')])"
   ]
  },
  {
   "cell_type": "code",
   "execution_count": 6,
   "metadata": {
    "tags": [
     "l2",
     "hid",
     "s2"
    ]
   },
   "outputs": [],
   "source": [
    "ref_tmp_var = False\n",
    "\n",
    "a =1\n",
    "try:\n",
    "    if a == 1:\n",
    "        ref_assert_var = True\n",
    "        ref_tmp_var = True\n",
    "    else:\n",
    "        ref_assert_var = False\n",
    "        print('Please follow the instructions given and use the same variables provided in the instructions.')\n",
    "except Exception:\n",
    "    print('Please follow the instructions given and use the same variables provided in the instructions.')\n",
    "\n",
    "assert ref_tmp_var"
   ]
  },
  {
   "cell_type": "markdown",
   "metadata": {
    "tags": [
     "l3",
     "s3",
     "content"
    ]
   },
   "source": [
    "## Add CPDs\n",
    "\n",
    "Add CPDs using add_cpds() and validate the model."
   ]
  },
  {
   "cell_type": "code",
   "execution_count": 7,
   "metadata": {
    "collapsed": true,
    "tags": [
     "l3",
     "s3",
     "ce"
    ]
   },
   "outputs": [],
   "source": [
    "fraud_model.add_cpds(jewelry_cpd, fraud_cpd, age_cpd, sex_cpd, gas_cpd)"
   ]
  },
  {
   "cell_type": "markdown",
   "metadata": {
    "tags": [
     "l3",
     "s3",
     "hint"
    ]
   },
   "source": []
  },
  {
   "cell_type": "code",
   "execution_count": 8,
   "metadata": {
    "tags": [
     "l3",
     "s3",
     "ans"
    ]
   },
   "outputs": [
    {
     "data": {
      "text/plain": [
       "True"
      ]
     },
     "execution_count": 8,
     "metadata": {},
     "output_type": "execute_result"
    }
   ],
   "source": [
    "fraud_model.check_model()"
   ]
  },
  {
   "cell_type": "code",
   "execution_count": 9,
   "metadata": {
    "tags": [
     "l3",
     "s3",
     "hid"
    ]
   },
   "outputs": [],
   "source": [
    "ref_tmp_var = False\n",
    "\n",
    "a = 1\n",
    "try:\n",
    "    if a == 1:\n",
    "        ref_assert_var = True\n",
    "        ref_tmp_var = True\n",
    "    else:\n",
    "        ref_assert_var = False\n",
    "        print('Please follow the instructions given and use the same variables provided in the instructions.')\n",
    "except Exception:\n",
    "    print('Please follow the instructions given and use the same variables provided in the instructions.')\n",
    "\n",
    "assert ref_tmp_var"
   ]
  },
  {
   "cell_type": "markdown",
   "metadata": {
    "tags": [
     "l4",
     "s4",
     "content"
    ]
   },
   "source": [
    "## Obtain CPDs, Leaves and Independencies\n",
    "\n",
    "You can now look at the CPDs, leaves, independencies."
   ]
  },
  {
   "cell_type": "code",
   "execution_count": 10,
   "metadata": {
    "tags": [
     "l4",
     "s4",
     "ce"
    ]
   },
   "outputs": [
    {
     "data": {
      "text/plain": [
       "[<TabularCPD representing P(J:2 | A:3, S:2, F:2) at 0x187d78c0a90>,\n",
       " <TabularCPD representing P(F:2) at 0x187d4083898>,\n",
       " <TabularCPD representing P(A:3) at 0x187d78c0a58>,\n",
       " <TabularCPD representing P(S:2) at 0x187d78c0ac8>,\n",
       " <TabularCPD representing P(G:2 | F:2) at 0x187d78c0b70>]"
      ]
     },
     "execution_count": 10,
     "metadata": {},
     "output_type": "execute_result"
    }
   ],
   "source": [
    "fraud_model.get_cpds()"
   ]
  },
  {
   "cell_type": "markdown",
   "metadata": {
    "tags": [
     "s4",
     "l4",
     "hint"
    ]
   },
   "source": []
  },
  {
   "cell_type": "code",
   "execution_count": 11,
   "metadata": {
    "tags": [
     "s4",
     "l4",
     "ans"
    ]
   },
   "outputs": [
    {
     "data": {
      "text/plain": [
       "(F _|_ A, S)\n",
       "(F _|_ A, S | G)\n",
       "(F _|_ S | A)\n",
       "(F _|_ A | S)\n",
       "(F _|_ S | G, A)\n",
       "(F _|_ A | G, S)\n",
       "(J _|_ G | F)\n",
       "(J _|_ G | A, F)\n",
       "(J _|_ G | S, F)\n",
       "(J _|_ G | A, S, F)\n",
       "(A _|_ G, S, F)\n",
       "(A _|_ S, F | G)\n",
       "(A _|_ G, F | S)\n",
       "(A _|_ G, S | F)\n",
       "(A _|_ F | G, S)\n",
       "(A _|_ S | G, F)\n",
       "(A _|_ G | S, F)\n",
       "(A _|_ G | F, J)\n",
       "(A _|_ G | S, F, J)\n",
       "(S _|_ G, A, F)\n",
       "(S _|_ A, F | G)\n",
       "(S _|_ G, F | A)\n",
       "(S _|_ G, A | F)\n",
       "(S _|_ F | G, A)\n",
       "(S _|_ A | G, F)\n",
       "(S _|_ G | A, F)\n",
       "(S _|_ G | F, J)\n",
       "(S _|_ G | A, F, J)\n",
       "(G _|_ A, S)\n",
       "(G _|_ S | A)\n",
       "(G _|_ A | S)\n",
       "(G _|_ A, S, J | F)\n",
       "(G _|_ S, J | A, F)\n",
       "(G _|_ A, J | S, F)\n",
       "(G _|_ A, S | F, J)\n",
       "(G _|_ J | A, S, F)\n",
       "(G _|_ S | A, F, J)\n",
       "(G _|_ A | S, F, J)"
      ]
     },
     "execution_count": 11,
     "metadata": {},
     "output_type": "execute_result"
    }
   ],
   "source": [
    "fraud_model.get_leaves()\n",
    "fraud_model.get_independencies()"
   ]
  },
  {
   "cell_type": "code",
   "execution_count": 12,
   "metadata": {
    "tags": [
     "s4",
     "hid",
     "l4"
    ]
   },
   "outputs": [],
   "source": [
    "ref_tmp_var = False\n",
    "\n",
    "a = 1\n",
    "try:\n",
    "    if a == 1:\n",
    "        ref_assert_var = True\n",
    "        ref_tmp_var = True\n",
    "    else:\n",
    "        ref_assert_var = False\n",
    "        print('Please follow the instructions given and use the same variables provided in the instructions.')\n",
    "except Exception:\n",
    "    print('Please follow the instructions given and use the same variables provided in the instructions.')\n",
    "\n",
    "assert ref_tmp_var"
   ]
  },
  {
   "cell_type": "markdown",
   "metadata": {
    "tags": [
     "l5",
     "content",
     "s5"
    ]
   },
   "source": [
    "## Verifying the CPDs\n",
    "\n",
    "``` python\n",
    "for cpd in fraud_model.get_cpds():\n",
    "    print(\"CPD of {variable}:\".format(variable=cpd.variable))\n",
    "    print(cpd)\n",
    "```"
   ]
  },
  {
   "cell_type": "code",
   "execution_count": 13,
   "metadata": {
    "collapsed": true,
    "tags": [
     "l5",
     "ce",
     "s5"
    ]
   },
   "outputs": [],
   "source": [
    "# Iterate over fraud_model.get_cpds()"
   ]
  },
  {
   "cell_type": "markdown",
   "metadata": {
    "tags": [
     "l5",
     "s5",
     "hint"
    ]
   },
   "source": []
  },
  {
   "cell_type": "code",
   "execution_count": 14,
   "metadata": {
    "tags": [
     "l5",
     "s5",
     "ans"
    ]
   },
   "outputs": [
    {
     "name": "stdout",
     "output_type": "stream",
     "text": [
      "CPD of J:\n",
      "╒═════╤═════╤══════╤══════╤══════╤══════╤══════╤══════╤══════╤══════╤══════╤═════╤══════╕\n",
      "│ A   │ A_0 │ A_0  │ A_0  │ A_0  │ A_1  │ A_1  │ A_1  │ A_1  │ A_2  │ A_2  │ A_2 │ A_2  │\n",
      "├─────┼─────┼──────┼──────┼──────┼──────┼──────┼──────┼──────┼──────┼──────┼─────┼──────┤\n",
      "│ S   │ S_0 │ S_0  │ S_1  │ S_1  │ S_0  │ S_0  │ S_1  │ S_1  │ S_0  │ S_0  │ S_1 │ S_1  │\n",
      "├─────┼─────┼──────┼──────┼──────┼──────┼──────┼──────┼──────┼──────┼──────┼─────┼──────┤\n",
      "│ F   │ F_0 │ F_1  │ F_0  │ F_1  │ F_0  │ F_1  │ F_0  │ F_1  │ F_0  │ F_1  │ F_0 │ F_1  │\n",
      "├─────┼─────┼──────┼──────┼──────┼──────┼──────┼──────┼──────┼──────┼──────┼─────┼──────┤\n",
      "│ J_0 │ 0.2 │ 0.95 │ 0.05 │ 0.95 │ 0.04 │ 0.95 │ 0.02 │ 0.95 │ 0.02 │ 0.95 │ 0.1 │ 0.95 │\n",
      "├─────┼─────┼──────┼──────┼──────┼──────┼──────┼──────┼──────┼──────┼──────┼─────┼──────┤\n",
      "│ J_1 │ 0.8 │ 0.05 │ 0.95 │ 0.05 │ 0.96 │ 0.05 │ 0.98 │ 0.05 │ 0.98 │ 0.05 │ 0.9 │ 0.05 │\n",
      "╘═════╧═════╧══════╧══════╧══════╧══════╧══════╧══════╧══════╧══════╧══════╧═════╧══════╛\n",
      "CPD of F:\n",
      "╒═════╤═════╕\n",
      "│ F_0 │ 0.1 │\n",
      "├─────┼─────┤\n",
      "│ F_1 │ 0.9 │\n",
      "╘═════╧═════╛\n",
      "CPD of A:\n",
      "╒═════╤══════╕\n",
      "│ A_0 │ 0.25 │\n",
      "├─────┼──────┤\n",
      "│ A_1 │ 0.4  │\n",
      "├─────┼──────┤\n",
      "│ A_2 │ 0.35 │\n",
      "╘═════╧══════╛\n",
      "CPD of S:\n",
      "╒═════╤═════╕\n",
      "│ S_0 │ 0.5 │\n",
      "├─────┼─────┤\n",
      "│ S_1 │ 0.5 │\n",
      "╘═════╧═════╛\n",
      "CPD of G:\n",
      "╒═════╤═════╤══════╕\n",
      "│ F   │ F_0 │ F_1  │\n",
      "├─────┼─────┼──────┤\n",
      "│ G_0 │ 0.2 │ 0.01 │\n",
      "├─────┼─────┼──────┤\n",
      "│ G_1 │ 0.8 │ 0.99 │\n",
      "╘═════╧═════╧══════╛\n"
     ]
    }
   ],
   "source": [
    "for cpd in fraud_model.get_cpds():\n",
    "    print(\"CPD of {variable}:\".format(variable=cpd.variable))\n",
    "    print(cpd)"
   ]
  },
  {
   "cell_type": "code",
   "execution_count": 15,
   "metadata": {
    "tags": [
     "hid",
     "l5",
     "s5"
    ]
   },
   "outputs": [],
   "source": [
    "ref_tmp_var = False\n",
    "\n",
    "a = 1\n",
    "try:\n",
    "    if a == 1:\n",
    "        ref_assert_var = True\n",
    "        ref_tmp_var = True\n",
    "    else:\n",
    "        ref_assert_var = False\n",
    "        print('Please follow the instructions given and use the same variables provided in the instructions.')\n",
    "except Exception:\n",
    "    print('Please follow the instructions given and use the same variables provided in the instructions.')\n",
    "\n",
    "assert ref_tmp_var"
   ]
  },
  {
   "cell_type": "markdown",
   "metadata": {
    "tags": [
     "content",
     "l6",
     "s6"
    ]
   },
   "source": [
    "## Computations of Probabilities\n",
    "\n",
    "``` python\n",
    "\n",
    "from pgmpy.inference.base import Inference\n",
    "from pgmpy.factors import factor_product\n",
    "\n",
    "import itertools\n",
    "\n",
    "\n",
    "class SimpleInference(Inference):\n",
    "    def query(self, var, evidence):\n",
    "        # self.factors is a dict of the form of {node: [factors_involving_node]}\n",
    "        factors_list = set(itertools.chain(*self.factors.values()))\n",
    "        product = factor_product(*factors_list)\n",
    "        reduced_prod = product.reduce(evidence, inplace=False)\n",
    "        reduced_prod.normalize()\n",
    "        var_to_marg = set(self.model.nodes()) - set(var) - set([state[0] for state in evidence])\n",
    "        marg_prod = reduced_prod.marginalize(var_to_marg, inplace=False)\n",
    "        return marg_prod\n",
    "```\n",
    "\n",
    "### Computing CPDs against Evidence\n",
    "\n",
    "* Query J|A=1 and assign to j.\n",
    "\n",
    "<img src=\"../images/fraud_model2.png\", style=\"width: 500px;\">"
   ]
  },
  {
   "cell_type": "code",
   "execution_count": 16,
   "metadata": {
    "collapsed": true,
    "tags": [
     "ce",
     "l6",
     "s6"
    ]
   },
   "outputs": [],
   "source": [
    "from pgmpy.inference.base import Inference\n",
    "from pgmpy.factors import factor_product\n",
    "\n",
    "import itertools\n",
    "\n",
    "\n",
    "class SimpleInference(Inference):\n",
    "    def query(self, var, evidence):\n",
    "        # self.factors is a dict of the form of {node: [factors_involving_node]}\n",
    "        factors_list = set(itertools.chain(*self.factors.values()))\n",
    "        product = factor_product(*factors_list)\n",
    "        reduced_prod = product.reduce(evidence, inplace=False)\n",
    "        reduced_prod.normalize()\n",
    "        var_to_marg = set(self.model.nodes()) - set(var) - set([state[0] for state in evidence])\n",
    "        marg_prod = reduced_prod.marginalize(var_to_marg, inplace=False)\n",
    "        return marg_prod"
   ]
  },
  {
   "cell_type": "markdown",
   "metadata": {
    "tags": [
     "l6",
     "s6",
     "hint"
    ]
   },
   "source": [
    "Use SimpleInference(fraud_model)"
   ]
  },
  {
   "cell_type": "code",
   "execution_count": 17,
   "metadata": {
    "tags": [
     "l6",
     "s6",
     "ans"
    ]
   },
   "outputs": [
    {
     "name": "stdout",
     "output_type": "stream",
     "text": [
      "╒═════╤══════════╕\n",
      "│ J   │   phi(J) │\n",
      "╞═════╪══════════╡\n",
      "│ J_0 │   0.8580 │\n",
      "├─────┼──────────┤\n",
      "│ J_1 │   0.1420 │\n",
      "╘═════╧══════════╛\n"
     ]
    }
   ],
   "source": [
    "infer = SimpleInference(fraud_model)\n",
    "j = infer.query(var=['J'], evidence=[('A', 1)])\n",
    "print(j)"
   ]
  },
  {
   "cell_type": "code",
   "execution_count": 19,
   "metadata": {
    "tags": [
     "hid",
     "s6",
     "l6"
    ]
   },
   "outputs": [],
   "source": [
    "ref_tmp_var = False\n",
    "\n",
    "import numpy as np\n",
    "\n",
    "try:\n",
    "    if abs(j.values[0] - 0.858) < 0.1:\n",
    "        ref_assert_var = True\n",
    "        ref_tmp_var = True\n",
    "    else:\n",
    "        ref_assert_var = False\n",
    "        print('Please follow the instructions given and use the same variables provided in the instructions.')\n",
    "except Exception:\n",
    "    print('Please follow the instructions given and use the same variables provided in the instructions.')\n",
    "\n",
    "assert ref_tmp_var"
   ]
  }
 ],
 "metadata": {
  "executed_sections": [],
  "kernelspec": {
   "display_name": "Python 3",
   "language": "python",
   "name": "python3"
  },
  "language_info": {
   "codemirror_mode": {
    "name": "ipython",
    "version": 3
   },
   "file_extension": ".py",
   "mimetype": "text/x-python",
   "name": "python",
   "nbconvert_exporter": "python",
   "pygments_lexer": "ipython3",
   "version": "3.6.1"
  }
 },
 "nbformat": 4,
 "nbformat_minor": 2
}
