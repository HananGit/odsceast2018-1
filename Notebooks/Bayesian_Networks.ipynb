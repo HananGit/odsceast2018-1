{
 "cells": [
  {
   "cell_type": "markdown",
   "metadata": {
    "tags": [
     "s1",
     "content",
     "l1"
    ]
   },
   "source": [
    "# Bayesian Networks\n",
    "\n",
    "\n",
    "\n",
    "\n",
    "\n",
    "## Conditional Probability Distributions\n",
    "\n",
    "Let us consider this problem of identifying whether a credit card transaction is fraudulent. The variables are Fraud (F ), Gas (G), Jewelry (J), Age (A), and Sex (S), representing whether or not the current purchase is fraudulent, whether or not there was a gas purchase in the last 24 hours, whether or not there was a jewelry purchase in the last 24 hours, and the age and sex of the card holder, respectively.\n",
    "\n",
    "Conditional probability distributions or CPDs are probability distributions which are based on conditioning certain variables. For example, probability of jewelry transaction, given Fraud (F) and Sex (S) is given by:\n",
    "\n",
    "| F   | S   |   P($J_0$) |    P($J_1$)  |\n",
    "|-----|-----|------------|--------------|\n",
    "| F_0 | S_0 |   0.0730   |      0.9270  |\n",
    "| F_0 | S_1 |   0.0555   |      0.9445  |\n",
    "| F_1 | S_0 |   0.9500   |      0.05    |\n",
    "| F_1 | S_1 |   0.95     |      0.05    |\n",
    "\n",
    "** The conditional probability distributions sum to 1. **\n",
    "\n",
    "## Bayesian Networks\n",
    "\n",
    "A Bayesian network is a directed acyclic graphical model whose nodes represent a set of random variables and their conditional dependencies via a directed acyclic graph (DAG). We shall look at a Bayesian network which represent the probabilistic relationships between events of credit card transactions of jewelry or gas based on fraud and other features. \n",
    "\n",
    "* They may be observable quantities \n",
    "* Latent variables \n",
    "* Hypothesis formulations. \n",
    "\n",
    "Consider the bayesian network as shown below [Heckerman]:\n",
    "\n",
    "<img src=\"../images/bayesian_network.png\", style=\"width: 700px;\">\n",
    "\n",
    "The dependency chain can be visualized as shown in the bayesian network.\n",
    "\n",
    "### Example:\n",
    "\n",
    "* What is probability of Fraud=No? Assign the value to p_F1.\n",
    "* Compute the conditional probability distributions for each node in the network. Write it down on your paper."
   ]
  },
  {
   "cell_type": "code",
   "execution_count": 6,
   "metadata": {
    "collapsed": true,
    "tags": [
     "s1",
     "ce",
     "l1"
    ]
   },
   "outputs": [],
   "source": [
    "p_F1 = 0.0"
   ]
  },
  {
   "cell_type": "markdown",
   "metadata": {
    "tags": [
     "s1",
     "l1",
     "hint"
    ]
   },
   "source": [
    "The sum total of probabilities should be 1"
   ]
  },
  {
   "cell_type": "code",
   "execution_count": 7,
   "metadata": {
    "tags": [
     "s1",
     "l1",
     "ans"
    ]
   },
   "outputs": [
    {
     "name": "stdout",
     "output_type": "stream",
     "text": [
      "0.99999\n"
     ]
    }
   ],
   "source": [
    "p_F1 = 1-0.00001\n",
    "print(p_F1)"
   ]
  },
  {
   "cell_type": "code",
   "execution_count": 8,
   "metadata": {
    "collapsed": true,
    "tags": [
     "s1",
     "hid",
     "l1"
    ]
   },
   "outputs": [],
   "source": [
    "ref_tmp_var = False\n",
    "\n",
    "try:\n",
    "    if abs(p_F1 - 0.99999) < 0.1: \n",
    "        ref_assert_var = True\n",
    "        ref_tmp_var = True\n",
    "    else:\n",
    "        ref_assert_var = False\n",
    "        print('Please follow the instructions given and use the same variables provided in the instructions.')\n",
    "except Exception:\n",
    "    print('Please follow the instructions given and use the same variables provided in the instructions.')\n",
    "\n",
    "assert ref_tmp_var"
   ]
  },
  {
   "cell_type": "markdown",
   "metadata": {
    "tags": [
     "l2",
     "content",
     "s2"
    ]
   },
   "source": [
    "\n",
    "<img src=\"../images/cpd_j.png\", style=\"width: 700px;\">\n",
    "\n",
    "<img src=\"../images/cpds.png\", style=\"width: 700px;\">\n",
    "\n",
    "\n",
    "## Chain Rule\n",
    "\n",
    "Given the above network, the joint probability $p(F, A, S, G, J)$ would be $p(F, A, S, G, J) = p(F)\\times p(A) \\times p(S) \\times p(G|F) \\times p(J|F, A, S)$\n",
    "\n",
    "### Joint probability of the Transaction\n",
    "\n",
    "* Compute the joint probability of the fraudulent transaction of a 45 year old male given that no fraud occurred and gas or jewelry was not bought?\n",
    "* Assign the probability to p_FASGJ"
   ]
  },
  {
   "cell_type": "code",
   "execution_count": 9,
   "metadata": {
    "collapsed": true,
    "tags": [
     "l2",
     "ce",
     "s2"
    ]
   },
   "outputs": [],
   "source": [
    "p_FASGJ = 0.0"
   ]
  },
  {
   "cell_type": "markdown",
   "metadata": {
    "tags": [
     "l2",
     "s2",
     "hint"
    ]
   },
   "source": [
    "use chain rule to determine the probability."
   ]
  },
  {
   "cell_type": "code",
   "execution_count": 10,
   "metadata": {
    "tags": [
     "l2",
     "s2",
     "ans"
    ]
   },
   "outputs": [
    {
     "name": "stdout",
     "output_type": "stream",
     "text": [
      "7.919920800000001e-05\n"
     ]
    }
   ],
   "source": [
    "p_FASGJ = 0.99999*0.4*0.5*0.99*0.0004\n",
    "print(p_FASGJ)"
   ]
  },
  {
   "cell_type": "code",
   "execution_count": 11,
   "metadata": {
    "collapsed": true,
    "tags": [
     "l2",
     "hid",
     "s2"
    ]
   },
   "outputs": [],
   "source": [
    "ref_tmp_var = False\n",
    "\n",
    "try:\n",
    "    if abs(p_FASGJ - 7.9199208e-05) < 0.1: \n",
    "        ref_assert_var = True\n",
    "        ref_tmp_var = True\n",
    "    else:\n",
    "        ref_assert_var = False\n",
    "        print('Please follow the instructions given and use the same variables provided in the instructions.')\n",
    "except Exception:\n",
    "    print('Please follow the instructions given and use the same variables provided in the instructions.')\n",
    "\n",
    "assert ref_tmp_var"
   ]
  },
  {
   "cell_type": "markdown",
   "metadata": {
    "tags": [
     "l3",
     "s3",
     "content"
    ]
   },
   "source": [
    "$$p(F=No, A=1, S=Male, G=No, J=No) = p(F_0)\\times p(A_1) \\times p(S_0) \\times p(G_0|F_0) \\times p(J_0|F_0, A_1, S_0)$$\n",
    "\n",
    "Note that each node has a dependency over its parents.\n",
    "\n",
    "### Validity of the Bayesian Network\n",
    "\n",
    "To validate that our bayesian network indeed is correct, one of the ways is to marginalize over all the variables and see if the total sums to 1:\n",
    "\n",
    "$$\\sum_{J, F, A, S, G}p(J, F, A, S, G) = \\sum_{J, F, A, S, G}p(F)p(A)p(S)p(J|F,A,S)p(G|F)$$\n",
    "\n",
    "$$\\sum_{J, F, A, S, G}p(J, F, A, S, G) = \\sum_{J, F, A, S,}p(F)p(A)p(S)p(J|F,A,S)\\sum_{G}p(G|F)$$\n",
    "\n",
    "$$\\sum_{J, F, A, S, G}p(J, F, A, S, G) = \\sum_{F, A, S}p(F)p(A)p(S)\\sum_{J}p(J|F,A,S)$$\n",
    "\n",
    "$$\\sum_{J, F, A, S, G}p(J, F, A, S, G) = \\sum_{F, A, S}p(F)p(A)p(S)$$\n",
    "\n",
    "$$\\sum_{J, F, A, S, G}p(J, F, A, S, G) = 1$$\n",
    "\n",
    "## Inference in a Bayesian Network\n",
    "\n",
    "One can use a bayesian network to compute any probability of interest. What is the probability of fraud given A, S, J, G?\n",
    "\n",
    "$$p(f|a, s, j, g) = \\cfrac{p(f, a, s, j, g)}{\\sum_{f'}p(f', a, s, j, g)}$$\n",
    "\n",
    "$$p(f|a, s, j, g) = \\cfrac{p(f)p(a)p(s)p(j|f, a, s)p(g|f)}{\\sum_{f'}p(f')p(a)p(s)p(j|f', a, s)p(g|f')}$$\n",
    "\n",
    "$$p(f|a, s, j, g) = \\cfrac{p(f)p(j|f, a, s)p(g|f)}{\\sum_{f'}p(j|f', a, s)p(g|f')p(f')}$$\n",
    "\n",
    "### Computing the Probability of Fraud \n",
    "\n",
    "* For a transaction involving a 25 year old female who bought jewelry and gas, what is the probability of fraud? Assign the value to p_f."
   ]
  },
  {
   "cell_type": "code",
   "execution_count": 12,
   "metadata": {
    "collapsed": true,
    "tags": [
     "l3",
     "s3",
     "ce"
    ]
   },
   "outputs": [],
   "source": [
    "p_f = 0.0"
   ]
  },
  {
   "cell_type": "markdown",
   "metadata": {
    "tags": [
     "l3",
     "s3",
     "hint"
    ]
   },
   "source": [
    "Compute the numerator and denominator for fraud=Yes and fraud=No."
   ]
  },
  {
   "cell_type": "code",
   "execution_count": 13,
   "metadata": {
    "tags": [
     "l3",
     "s3",
     "ans"
    ]
   },
   "outputs": [
    {
     "name": "stdout",
     "output_type": "stream",
     "text": [
      "0.019608035372895818\n"
     ]
    }
   ],
   "source": [
    "p_f = (0.00001*0.2*0.05)/(0.00001*0.2*0.05 + 0.99999*0.01*0.0005)\n",
    "print(p_f)"
   ]
  },
  {
   "cell_type": "code",
   "execution_count": 14,
   "metadata": {
    "collapsed": true,
    "tags": [
     "l3",
     "s3",
     "hid"
    ]
   },
   "outputs": [],
   "source": [
    "ref_tmp_var = False\n",
    "\n",
    "try:\n",
    "    if abs(p_f - 0.019608035372895818) < 0.1: \n",
    "        ref_assert_var = True\n",
    "        ref_tmp_var = True\n",
    "    else:\n",
    "        ref_assert_var = False\n",
    "        print('Please follow the instructions given and use the same variables provided in the instructions.')\n",
    "except Exception:\n",
    "    print('Please follow the instructions given and use the same variables provided in the instructions.')\n",
    "\n",
    "assert ref_tmp_var"
   ]
  },
  {
   "cell_type": "markdown",
   "metadata": {
    "tags": [
     "l4",
     "s4",
     "content"
    ]
   },
   "source": [
    "$$p(f=Yes|a=25, s=Female, j=Yes, g=Yes) = \\cfrac{p(f=Yes)p(j=Yes|f=Yes, a=25, s=Female)p(g=Yes|f=Yes)}{p(f=Yes)p(j=Yes|f=Yes, a=25, s=Female)p(g=Yes|f=Yes) + p(f=No)p(j=Yes|f=No, a=25, s=Female)p(g=Yes|f=No)}$$\n",
    "\n",
    "## Was a Valid Transaction By a Male/Female  \n",
    "\n",
    "Consider the above scenario but that we don't know if the person was a Male or a Female and that the transaction was a valid transaction.\n",
    "\n",
    "* Compute the probability and assign your result to p_v = 'Male' or 'Female'"
   ]
  },
  {
   "cell_type": "code",
   "execution_count": 15,
   "metadata": {
    "collapsed": true,
    "tags": [
     "l4",
     "s4",
     "ce"
    ]
   },
   "outputs": [],
   "source": [
    "p_vm = 0.0\n",
    "p_vf = 0.0\n",
    "\n",
    "# probability of a male and female, given a valid transaction, age=25"
   ]
  },
  {
   "cell_type": "markdown",
   "metadata": {
    "tags": [
     "s4",
     "l4",
     "hint"
    ]
   },
   "source": [
    "Compute p(s=Male|a, f, j, g) and p(s=Female|a, f, j, g)"
   ]
  },
  {
   "cell_type": "code",
   "execution_count": 16,
   "metadata": {
    "tags": [
     "s4",
     "l4",
     "ans"
    ]
   },
   "outputs": [
    {
     "name": "stdout",
     "output_type": "stream",
     "text": [
      "0.16666666666666666 0.8333333333333333 Female\n"
     ]
    }
   ],
   "source": [
    "p_vm = (0.5*0.0001)/(0.5*0.0001 + 0.5*0.0005)\n",
    "p_vf = (0.5*0.0005)/(0.5*0.0001 + 0.5*0.0005)\n",
    "\n",
    "if p_vm > p_vf:\n",
    "    p_v = 'Male'\n",
    "else:\n",
    "    p_v = 'Female'\n",
    "    \n",
    "print(p_vm, p_vf, p_v)"
   ]
  },
  {
   "cell_type": "code",
   "execution_count": 17,
   "metadata": {
    "collapsed": true,
    "tags": [
     "s4",
     "hid",
     "l4"
    ]
   },
   "outputs": [],
   "source": [
    "ref_tmp_var = False\n",
    "\n",
    "try:\n",
    "    if p_v is 'Female': \n",
    "        ref_assert_var = True\n",
    "        ref_tmp_var = True\n",
    "    else:\n",
    "        ref_assert_var = False\n",
    "        print('Please follow the instructions given and use the same variables provided in the instructions.')\n",
    "except Exception:\n",
    "    print('Please follow the instructions given and use the same variables provided in the instructions.')\n",
    "\n",
    "assert ref_tmp_var"
   ]
  },
  {
   "cell_type": "markdown",
   "metadata": {
    "tags": [
     "l5",
     "content",
     "s5"
    ]
   },
   "source": [
    "Let us derive the equations for $p(s=Male|a, s, j, g)$ \n",
    "$$p(s|a, f, j, g) = \\cfrac{p(s)p(j|f, a, s)p(a)p(f)p(g|f)}{\\{\\sum_{s'}p(s')p(j|f, a, s')p(a)p(f)p(g|f)\\}}$$\n",
    "\n",
    "$$p(s|a, f, j, g) = \\cfrac{p(s)p(j|f, a, s)}{\\{\\sum_{s'}p(s')p(j|f, a, s')\\}}$$\n",
    "\n",
    "$$p(s=Male|a, f, j, g) = \\cfrac{p(s=Male)p(j=Yes|f=No, a<30, s=Male)}{\\{p(s=Male)p(j=Yes|f=No, a<30, s=Male) + p(s=Female)p(j=Yes|f=No, a<30, s=Female)\\}}$$\n",
    "\n",
    "$$p(s=Female|a, f, j, g) = \\cfrac{p(s=Female)p(j=Yes|f=No, a<30, s=Female)}{\\{p(s=Male)p(j=Yes|f=No, a<30, s=Male) + p(s=Female)p(j=Yes|f=No, a<30, s=Female)\\}}$$\n",
    "\n",
    "$$p(s=Male|a, f, j, g) = \\cfrac{0.5\\times0.0001}{0.5\\times0.0001 + 0.5\\times0.0005}$$\n",
    "\n",
    "$$p(s=Female|a, f, j, g) = \\cfrac{0.5\\times0.0005}{0.5\\times0.0001 + 0.5\\times0.0005}$$\n",
    "\n",
    "We can see that the second term is 1 - first term and that the transaction was most likely by a female.\n",
    "\n"
   ]
  },
  {
   "cell_type": "code",
   "execution_count": 18,
   "metadata": {
    "collapsed": true,
    "tags": [
     "l5",
     "ce",
     "s5"
    ]
   },
   "outputs": [],
   "source": [
    "#"
   ]
  },
  {
   "cell_type": "markdown",
   "metadata": {
    "tags": [
     "l5",
     "s5",
     "hint"
    ]
   },
   "source": []
  },
  {
   "cell_type": "code",
   "execution_count": null,
   "metadata": {
    "collapsed": true,
    "tags": [
     "l5",
     "s5",
     "ans"
    ]
   },
   "outputs": [],
   "source": []
  },
  {
   "cell_type": "code",
   "execution_count": 19,
   "metadata": {
    "collapsed": true,
    "tags": [
     "hid",
     "l5",
     "s5"
    ]
   },
   "outputs": [],
   "source": [
    "ref_tmp_var = False\n",
    "\n",
    "a=1\n",
    "try:\n",
    "    if a == 1: \n",
    "        ref_assert_var = True\n",
    "        ref_tmp_var = True\n",
    "    else:\n",
    "        ref_assert_var = False\n",
    "        print('Please follow the instructions given and use the same variables provided in the instructions.')\n",
    "except Exception:\n",
    "    print('Please follow the instructions given and use the same variables provided in the instructions.')\n",
    "\n",
    "assert ref_tmp_var"
   ]
  }
 ],
 "metadata": {
  "executed_sections": [],
  "kernelspec": {
   "display_name": "Python 3",
   "language": "python",
   "name": "python3"
  },
  "language_info": {
   "codemirror_mode": {
    "name": "ipython",
    "version": 3
   },
   "file_extension": ".py",
   "mimetype": "text/x-python",
   "name": "python",
   "nbconvert_exporter": "python",
   "pygments_lexer": "ipython3",
   "version": "3.6.1"
  }
 },
 "nbformat": 4,
 "nbformat_minor": 2
}
