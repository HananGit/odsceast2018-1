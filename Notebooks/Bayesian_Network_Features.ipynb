{
 "cells": [
  {
   "cell_type": "markdown",
   "metadata": {
    "tags": [
     "s1",
     "content",
     "l1"
    ]
   },
   "source": [
    "# Features of a Bayesian Network \n",
    "\n",
    "So far we have seen that:\n",
    "* A Bayesian Network is a joint probability distribution of a set of random variables.\n",
    "\n",
    "* A bayesian network consists of a directed acyclig graph (DAG) with the nodes representing random variables and the edges representing the conditional dependencies between random variables.\n",
    "\n",
    "* A node is conditionaly dependent on its parent nodes. Top level parent nodes are conditionally independent of each other, that is, there is no flow in to them.\n",
    "\n",
    "For a bayesian network, the following conditions must be satisfied:\n",
    "\n",
    "    1. The graph is directed. The dependencies flow in a direction.\n",
    "    2. It is acyclic. That is if you start from a node and traverse through the endges, you cannot end up with the starting node. \n",
    "\n",
    "The Bayesian Network for random variables X, Y and Z represents a joint distribution using the <b>Chain Rule</b>:\n",
    "\n",
    "\n",
    "\\begin{align}\n",
    " P(X) = \\sqcap \\space P({X}_{1} | Par({X}_{1})) \\\\\n",
    " where: \\\\\n",
    " X = \\{ {x}_{1},{x}_{2},...,{x}_{n} \\} \\space are \\space the \\space nodes\\\\\n",
    " Par({X}_{i})) \\space represents \\space  the \\space parents \\space of \\space the node {X}_{i} \\\\\n",
    " \\end{align}\n",
    "\n",
    "\n",
    "Let us consider three random variables X,Y and Z. \n",
    "\n",
    "<img src=\"../images/BN.png\", style=\"width: 300px;\">\n",
    "\n",
    "\n",
    "From the definition of Bayesian Network, it follows that, \n",
    "\n",
    "P(X,Y,Z) = P(X) * P(Y | X) * P(z | X,Y) \n",
    "\n",
    "The above definition is for discrete random variables. \n",
    "\n",
    "For contnuous variables, the probability is replaced by PDF. For continuous variables, the distribution is a Probability Density Function.\n",
    "\n",
    "\\begin{align}\n",
    " f(X) = \\sqcap \\space f({X}_{1} | Par({X}_{1})) \\\\\n",
    " where: \\\\\n",
    " X = \\{ {x}_{1},{x}_{2},...,{x}_{n} \\} \\space are \\space the \\space nodes\\\\\n",
    " Par({X}_{i})) \\space represents \\space  the \\space parents \\space of \\space{X}_{i} \\\\\n",
    " \\end{align}\n",
    "\n",
    "\n",
    "Suppose we have 4 random variables W, X,Y and Z as illustrated below: \n",
    "\n",
    "<img src=\"../images/BN-linear.png\", style=\"width: 300px;\">\n",
    "\n",
    "\n",
    "This is a representation of linear regression from 3 input variables W, X, Y which have an effect on the target variable Z. Another advantage of Bayesian Network is the representation of conditional probability. A node is conditionally independent on any non-descendant node given its parent. \n",
    "\n",
    "A Bayesian Network can be typically used:\n",
    "\n",
    "1. To predict outcomes of causal effects (if the structure of the network is known)\n",
    "2. To discover causal relationships (if the structure is unknown)  - for example back testing a scenario.\n",
    "\n",
    "\n",
    "## Probablistic Influence - How does an Influence Flow through the Network?\n",
    "\n",
    "Let us take an example of Property Valuation. For assessing a property's value let us suppose that the following parameters are evaluated.\n",
    "\n",
    "1. L - Geographic Location - eg. city, near coast\n",
    "2. N - Nature of property\n",
    "3. U - Usability\n",
    "4. R - Risk-Prone Area\n",
    "5. Q-  Construction Quality \n",
    "6. A - Age of Construction \n",
    "7. G - Approval from local authorities\n",
    "8. M - Maintenance of Property\n",
    "9. V - Median Value of neighbourhood\n",
    "10. P - Property Price\n",
    "\n",
    "This is a simplified scenario compared to a real world valuation, but this demonstrates how a Bayesian Network could be applied for this situation.\n",
    "\n",
    "The letters indicated are the random variables in question. P is the target random variable indicating the property price.\n",
    "\n",
    "Let us construct a Bayesian Network based on the above scenario.\n",
    "\n",
    "<img src=\"../images/Appraisal.png\", style=\"width: 600px;\">\n",
    "\n",
    "* We can see an active trail from $L \\to V \\to P$. Hence the property price can be influenced by L since L influences V and V influences P. Similarly evidence of P can influence L via V: $L \\leftarrow V \\leftarrow P$ ** This is valid only if V is not observed. **\n",
    "\n",
    "* Location can affect Risk-Prone area and Median value of neighborhood. We can flatten the portion of the graph to infer: $V \\leftarrow L \\to R$.\n",
    "\n",
    "* V-Structures: $A \\to U \\leftarrow M$. A, M affect U and hence, A has no effect on M if U is not observed. Observing U, will reduce our possibilities of A, M and hence activates the trail from A to M or from M to A.\n",
    "\n",
    "\n",
    "### V-Structures\n",
    "\n",
    "v-structures are important to understand as not observing the intermediate node will block our trail. This makes sense as not knowing any information about Usability (U) has no effect on the probabilities of Construction Quality (Q), Age of construction (A) and Maintainence of property (M). However, knowing any information about usability will restrict the sample space of the joint probability, p(Q, A, M). Hence this means that observing U, will lead us to have the the random variables influencing each other.\n",
    "\n",
    "* Observing the U or its children will activate the trail.\n",
    "\n",
    "<img src=\"../images/v-structure1.png\", style=\"width: 70vw;\">\n",
    "\n",
    "\n",
    "# Fraud Modeling Example with pgmpy\n",
    "\n",
    "pgmpy is one of the popular packages to do Bayesian Network modeling. We shall continue to use the fraud modeling example to visualize our network. pgmpy is good for simpler problems, to visualize the indepencies and CPDs. It doesn't work very well for large dimensional problems. There are other toolkits which are available such as:\n",
    "\n",
    "* WINMINE by Microsoft: https://www.microsoft.com/en-us/research/project/winmine-toolkit/\n",
    "* pyro: Probabilistic Programming by Uber - https://github.com/uber/pyro\n",
    "\n",
    "You can specify various conditional probability distributions by providing the evidence and number of variables. For example, to specify the gas CPD:\n",
    "\n",
    "<img src=\"../images/bayesian_network.png\", style=\"width: 800px;\">\n",
    "\n",
    "## Modeling with pgmpy library\n",
    "\n",
    "One of the python libraries available online for modeling PGMs is the pgmpy library. You may view pgmpy's documentation to understand and learn all methods under this library (Link to documentation: http://pgmpy.org/index.html). We shall discuss some of the basic methods here:\n",
    "\n",
    "\n",
    "\n",
    "### Storing and Retrieving Conditional Probability Distributions\n",
    "\n",
    "Various conditional probability distributions (CPDs) are used in PGM modeling. It is required to visualize, store and retrieve these values in an efficient way so as to perform modeling easily. The 'TabularCPD' function within the pgmpy.factors.discrete sub-module allows storage and retrieval of CPDs in a tabular format. For our Fraud Modeling example we can create a CPD using the following code:\n",
    "\n",
    "``` python\n",
    "total_cpd = TabularCPD(\n",
    "                variable='C',\n",
    "                variable_card=2,\n",
    "                values=[[.0001, .95, .0005, .95, .0004, .95, .002, .95, .002, .95, .001, .95],\n",
    "                        [.9999, .05, .9995, .05, .9996, .05, .998, .05, .9998, .05, .999, .05]],\n",
    "                evidence=['A', 'S', 'F'],\n",
    "                evidence_card=[3, 2, 2])\n",
    "                \n",
    "\n",
    "gas_cpd = TabularCPD(variable='G',\n",
    "                     variable_card=2,\n",
    "                     values=[[.2, 0.01],\n",
    "                           [.8, 0.99]],\n",
    "                     evidence=['F'],\n",
    "                     evidence_card=[2])\n",
    "\n",
    "```\n",
    "\n",
    "## Specify the CPDs\n",
    "\n",
    "* Given the above examples, specify all CPDs for the fraud model:\n",
    "* jewelry_cpd\n",
    "* age_cpd\n",
    "* fraud_cpd\n",
    "* sex_cpd"
   ]
  },
  {
   "cell_type": "code",
   "execution_count": 20,
   "metadata": {
    "collapsed": true,
    "tags": [
     "s1",
     "ce",
     "l1"
    ]
   },
   "outputs": [],
   "source": [
    "from pgmpy.factors.discrete import TabularCPD\n",
    "from pgmpy.models import BayesianModel\n",
    "\n",
    "\n",
    "gas_cpd = TabularCPD(variable='G',\n",
    "                     variable_card=2,\n",
    "                     values=[[.2, 0.01],\n",
    "                           [.8, 0.99]],\n",
    "                     evidence=['F'],\n",
    "                     evidence_card=[2])"
   ]
  },
  {
   "cell_type": "markdown",
   "metadata": {
    "tags": [
     "s1",
     "l1",
     "hint"
    ]
   },
   "source": [
    "Form the table for jewelry cpd by specifying the order as A, S and F. Use this table as entry points to the values."
   ]
  },
  {
   "cell_type": "code",
   "execution_count": 21,
   "metadata": {
    "collapsed": true,
    "tags": [
     "s1",
     "l1",
     "ans"
    ]
   },
   "outputs": [],
   "source": [
    "fraud_cpd = TabularCPD(variable='F',\n",
    "                       variable_card=2,\n",
    "                       values=[[.1, .9]])\n",
    "\n",
    "jewelry_cpd = TabularCPD(\n",
    "                variable='J',\n",
    "                variable_card=2,\n",
    "                values=[[.2, .95, .05, .95, .04, .95, .02, .95, .02, .95, .1, .95],\n",
    "                        [.8, .05, .95, .05, .96, .05, .98, .05, .98, .05, .9, .05]],\n",
    "                evidence=['A', 'S', 'F'],\n",
    "                evidence_card=[3, 2, 2])\n",
    "\n",
    "age_cpd = TabularCPD(variable='A',\n",
    "                     variable_card=3,\n",
    "                     values=[[0.25, 0.4, 0.35]])\n",
    "\n",
    "sex_cpd = TabularCPD(variable='S',\n",
    "                    variable_card=2,\n",
    "                    values=[[0.5, 0.5]])"
   ]
  },
  {
   "cell_type": "code",
   "execution_count": 22,
   "metadata": {
    "collapsed": true,
    "tags": [
     "s1",
     "hid",
     "l1"
    ]
   },
   "outputs": [],
   "source": [
    "ref_tmp_var = False\n",
    "\n",
    "import numpy as np\n",
    "\n",
    "jewelry_cpd_ = TabularCPD(\n",
    "                variable='J',\n",
    "                variable_card=2,\n",
    "                values=[[.2, .95, .05, .95, .04, .95, .02, .95, .02, .95, .1, .95],\n",
    "                        [.8, .05, .95, .05, .96, .05, .98, .05, .98, .05, .9, .05]],\n",
    "                evidence=['A', 'S', 'F'],\n",
    "                evidence_card=[3, 2, 2])\n",
    "\n",
    "age_cpd_ = TabularCPD(variable='A',\n",
    "                     variable_card=3,\n",
    "                     values=[[0.25, 0.4, 0.35]])\n",
    "\n",
    "sex_cpd_ = TabularCPD(variable='S',\n",
    "                    variable_card=2,\n",
    "                    values=[[0.5, 0.5]])\n",
    "\n",
    "gas_cpd_ = TabularCPD(variable='G',\n",
    "                     variable_card=2,\n",
    "                     values=[[.2, 0.01],\n",
    "                           [.8, 0.99]],\n",
    "                     evidence=['F'],\n",
    "                     evidence_card=[2])\n",
    "\n",
    "try:\n",
    "    if (np.all(gas_cpd.get_values() == gas_cpd_.get_values()) and\n",
    "    (np.all(age_cpd.get_values() == age_cpd_.get_values()))):\n",
    "        ref_assert_var = True\n",
    "        ref_tmp_var = True\n",
    "    else:\n",
    "        ref_assert_var = False\n",
    "        print('Please follow the instructions given and use the same variables provided in the instructions.')\n",
    "except Exception:\n",
    "    print('Please follow the instructions given and use the same variables provided in the instructions.')\n",
    "\n",
    "assert ref_tmp_var"
   ]
  },
  {
   "cell_type": "markdown",
   "metadata": {
    "tags": [
     "l2",
     "content",
     "s2"
    ]
   },
   "source": [
    "## Building the Fraud Model\n",
    "\n",
    "In the Fraud Modelling example, Jewelry node is a child node of Fraud, Age and Sex nodes. Similarly Gas is a child of Fraud node.\n",
    "You can start building the Bayesian Model by specifying the dependencies in the Bayesian Network as arguments to BayesianModel() instance:\n",
    "    \n",
    "``` python\n",
    "[('F', 'J'),\n",
    "('A', 'J'),\n",
    "('S', 'J'),\n",
    "('F', 'G')]\n",
    "```\n",
    "\n",
    "* Assign the instance to fraud_model."
   ]
  },
  {
   "cell_type": "code",
   "execution_count": 23,
   "metadata": {
    "tags": [
     "l2",
     "ce",
     "s2"
    ]
   },
   "outputs": [],
   "source": [
    "fraud_model = BayesianModel()"
   ]
  },
  {
   "cell_type": "markdown",
   "metadata": {
    "tags": [
     "l2",
     "s2",
     "hint"
    ]
   },
   "source": [
    "Use BayesianModel([('F', 'J'),\n",
    "                   ('A', 'J'),\n",
    "                   ('S', 'J'),\n",
    "                   ('F', 'G')]) "
   ]
  },
  {
   "cell_type": "code",
   "execution_count": 24,
   "metadata": {
    "collapsed": true,
    "tags": [
     "l2",
     "s2",
     "ans"
    ]
   },
   "outputs": [],
   "source": [
    "fraud_model = BayesianModel([('F', 'J'),\n",
    "                             ('A', 'J'),\n",
    "                             ('S', 'J'),\n",
    "                             ('F', 'G')])"
   ]
  },
  {
   "cell_type": "code",
   "execution_count": 25,
   "metadata": {
    "collapsed": true,
    "tags": [
     "l2",
     "hid",
     "s2"
    ]
   },
   "outputs": [],
   "source": [
    "ref_tmp_var = False\n",
    "\n",
    "a=1\n",
    "try:\n",
    "    if a == 1:\n",
    "        ref_assert_var = True\n",
    "        ref_tmp_var = True\n",
    "    else:\n",
    "        ref_assert_var = False\n",
    "        print('Please follow the instructions given and use the same variables provided in the instructions.')\n",
    "except Exception:\n",
    "    print('Please follow the instructions given and use the same variables provided in the instructions.')\n",
    "\n",
    "assert ref_tmp_var"
   ]
  },
  {
   "cell_type": "markdown",
   "metadata": {
    "tags": [
     "l3",
     "s3",
     "content"
    ]
   },
   "source": [
    "Now, the Bayesian model is built and stored within the variable fraud_model. In the subsequent sections, we will see how to use the bayesian model to store probabilistic dependencies between nodes (or variables) and how to make inferences on nodes based on observed evidences.\n",
    "\n",
    "## Add CPDs\n",
    "\n",
    "In Bayesian Networks, the relationship between nodes are specified by CPDs. In order to start working with a BayesianModel in pgmpy, we need to add CPDs created in the previous sections to the model object.\n",
    "\n",
    "Add the pre-defined CPDs using BayesianModel's add_cpds() method and then validate the model."
   ]
  },
  {
   "cell_type": "code",
   "execution_count": 26,
   "metadata": {
    "collapsed": true,
    "tags": [
     "l3",
     "s3",
     "ce"
    ]
   },
   "outputs": [],
   "source": [
    "fraud_model.add_cpds(jewelry_cpd, fraud_cpd, age_cpd, sex_cpd, gas_cpd)"
   ]
  },
  {
   "cell_type": "markdown",
   "metadata": {
    "tags": [
     "l3",
     "s3",
     "hint"
    ]
   },
   "source": []
  },
  {
   "cell_type": "code",
   "execution_count": 27,
   "metadata": {
    "tags": [
     "l3",
     "s3",
     "ans"
    ]
   },
   "outputs": [
    {
     "data": {
      "text/plain": [
       "True"
      ]
     },
     "execution_count": 27,
     "metadata": {},
     "output_type": "execute_result"
    }
   ],
   "source": [
    "fraud_model.check_model()"
   ]
  },
  {
   "cell_type": "code",
   "execution_count": 28,
   "metadata": {
    "collapsed": true,
    "tags": [
     "l3",
     "s3",
     "hid"
    ]
   },
   "outputs": [],
   "source": [
    "ref_tmp_var = False\n",
    "\n",
    "a = 1\n",
    "try:\n",
    "    if a == 1:\n",
    "        ref_assert_var = True\n",
    "        ref_tmp_var = True\n",
    "    else:\n",
    "        ref_assert_var = False\n",
    "        print('Please follow the instructions given and use the same variables provided in the instructions.')\n",
    "except Exception:\n",
    "    print('Please follow the instructions given and use the same variables provided in the instructions.')\n",
    "\n",
    "assert ref_tmp_var"
   ]
  },
  {
   "cell_type": "markdown",
   "metadata": {
    "tags": [
     "l4",
     "s4",
     "content"
    ]
   },
   "source": [
    "Now that the CPDs are added to the model, we may need to verify them.\n",
    "\n",
    "## Obtain CPDs, Leaves and Independencies\n",
    "\n",
    "You can now look at the CPDs, leaves, independencies by invoking the BayesianModel's get_cpds(), get_leaves() and get_independencies() methods respectively."
   ]
  },
  {
   "cell_type": "code",
   "execution_count": 29,
   "metadata": {
    "tags": [
     "l4",
     "s4",
     "ce"
    ]
   },
   "outputs": [
    {
     "data": {
      "text/plain": [
       "[<TabularCPD representing P(J:2 | A:3, S:2, F:2) at 0x126c5747c18>,\n",
       " <TabularCPD representing P(F:2) at 0x126c5747be0>,\n",
       " <TabularCPD representing P(A:3) at 0x126c546d048>,\n",
       " <TabularCPD representing P(S:2) at 0x126c546d0b8>,\n",
       " <TabularCPD representing P(G:2 | F:2) at 0x126c5744eb8>]"
      ]
     },
     "execution_count": 29,
     "metadata": {},
     "output_type": "execute_result"
    }
   ],
   "source": [
    "fraud_model.get_cpds()"
   ]
  },
  {
   "cell_type": "markdown",
   "metadata": {
    "tags": [
     "s4",
     "l4",
     "hint"
    ]
   },
   "source": []
  },
  {
   "cell_type": "code",
   "execution_count": 30,
   "metadata": {
    "tags": [
     "s4",
     "l4",
     "ans"
    ]
   },
   "outputs": [
    {
     "data": {
      "text/plain": [
       "(F _|_ S, A)\n",
       "(F _|_ S, A | G)\n",
       "(F _|_ A | S)\n",
       "(F _|_ S | A)\n",
       "(F _|_ A | S, G)\n",
       "(F _|_ S | A, G)\n",
       "(J _|_ G | F)\n",
       "(J _|_ G | S, F)\n",
       "(J _|_ G | A, F)\n",
       "(J _|_ G | A, S, F)\n",
       "(A _|_ G, S, F)\n",
       "(A _|_ S, G | F)\n",
       "(A _|_ F, G | S)\n",
       "(A _|_ S, F | G)\n",
       "(A _|_ G | J, F)\n",
       "(A _|_ G | S, F)\n",
       "(A _|_ S | G, F)\n",
       "(A _|_ F | S, G)\n",
       "(A _|_ G | J, S, F)\n",
       "(S _|_ A, G, F)\n",
       "(S _|_ G, A | F)\n",
       "(S _|_ F, A | G)\n",
       "(S _|_ F, G | A)\n",
       "(S _|_ G | J, F)\n",
       "(S _|_ A | G, F)\n",
       "(S _|_ G | A, F)\n",
       "(S _|_ F | A, G)\n",
       "(S _|_ G | A, J, F)\n",
       "(G _|_ S, A)\n",
       "(G _|_ J, S, A | F)\n",
       "(G _|_ A | S)\n",
       "(G _|_ S | A)\n",
       "(G _|_ S, A | J, F)\n",
       "(G _|_ J, A | S, F)\n",
       "(G _|_ J, S | A, F)\n",
       "(G _|_ A | J, S, F)\n",
       "(G _|_ S | A, J, F)\n",
       "(G _|_ J | A, S, F)"
      ]
     },
     "execution_count": 30,
     "metadata": {},
     "output_type": "execute_result"
    }
   ],
   "source": [
    "fraud_model.get_leaves()\n",
    "fraud_model.get_independencies()"
   ]
  },
  {
   "cell_type": "code",
   "execution_count": 31,
   "metadata": {
    "collapsed": true,
    "tags": [
     "s4",
     "hid",
     "l4"
    ]
   },
   "outputs": [],
   "source": [
    "ref_tmp_var = False\n",
    "\n",
    "a = 1\n",
    "try:\n",
    "    if a == 1:\n",
    "        ref_assert_var = True\n",
    "        ref_tmp_var = True\n",
    "    else:\n",
    "        ref_assert_var = False\n",
    "        print('Please follow the instructions given and use the same variables provided in the instructions.')\n",
    "except Exception:\n",
    "    print('Please follow the instructions given and use the same variables provided in the instructions.')\n",
    "\n",
    "assert ref_tmp_var"
   ]
  },
  {
   "cell_type": "markdown",
   "metadata": {
    "tags": [
     "l5",
     "content",
     "s5"
    ]
   },
   "source": [
    "## Verifying the CPDs\n",
    "\n",
    "In order to verify the CPDs, we could use the get_cpds method on the fraud_model.\n",
    "\n",
    "``` python\n",
    "for cpd in fraud_model.get_cpds():\n",
    "    print(\"CPD of {variable}:\".format(variable=cpd.variable))\n",
    "    print(cpd)\n",
    "```"
   ]
  },
  {
   "cell_type": "code",
   "execution_count": 32,
   "metadata": {
    "collapsed": true,
    "tags": [
     "l5",
     "ce",
     "s5"
    ]
   },
   "outputs": [],
   "source": [
    "# Iterate over fraud_model.get_cpds()"
   ]
  },
  {
   "cell_type": "markdown",
   "metadata": {
    "tags": [
     "l5",
     "s5",
     "hint"
    ]
   },
   "source": []
  },
  {
   "cell_type": "code",
   "execution_count": 33,
   "metadata": {
    "tags": [
     "l5",
     "s5",
     "ans"
    ]
   },
   "outputs": [
    {
     "name": "stdout",
     "output_type": "stream",
     "text": [
      "CPD of J:\n",
      "╒═════╤═════╤══════╤══════╤══════╤══════╤══════╤══════╤══════╤══════╤══════╤═════╤══════╕\n",
      "│ A   │ A_0 │ A_0  │ A_0  │ A_0  │ A_1  │ A_1  │ A_1  │ A_1  │ A_2  │ A_2  │ A_2 │ A_2  │\n",
      "├─────┼─────┼──────┼──────┼──────┼──────┼──────┼──────┼──────┼──────┼──────┼─────┼──────┤\n",
      "│ S   │ S_0 │ S_0  │ S_1  │ S_1  │ S_0  │ S_0  │ S_1  │ S_1  │ S_0  │ S_0  │ S_1 │ S_1  │\n",
      "├─────┼─────┼──────┼──────┼──────┼──────┼──────┼──────┼──────┼──────┼──────┼─────┼──────┤\n",
      "│ F   │ F_0 │ F_1  │ F_0  │ F_1  │ F_0  │ F_1  │ F_0  │ F_1  │ F_0  │ F_1  │ F_0 │ F_1  │\n",
      "├─────┼─────┼──────┼──────┼──────┼──────┼──────┼──────┼──────┼──────┼──────┼─────┼──────┤\n",
      "│ J_0 │ 0.2 │ 0.95 │ 0.05 │ 0.95 │ 0.04 │ 0.95 │ 0.02 │ 0.95 │ 0.02 │ 0.95 │ 0.1 │ 0.95 │\n",
      "├─────┼─────┼──────┼──────┼──────┼──────┼──────┼──────┼──────┼──────┼──────┼─────┼──────┤\n",
      "│ J_1 │ 0.8 │ 0.05 │ 0.95 │ 0.05 │ 0.96 │ 0.05 │ 0.98 │ 0.05 │ 0.98 │ 0.05 │ 0.9 │ 0.05 │\n",
      "╘═════╧═════╧══════╧══════╧══════╧══════╧══════╧══════╧══════╧══════╧══════╧═════╧══════╛\n",
      "CPD of F:\n",
      "╒═════╤═════╕\n",
      "│ F_0 │ 0.1 │\n",
      "├─────┼─────┤\n",
      "│ F_1 │ 0.9 │\n",
      "╘═════╧═════╛\n",
      "CPD of A:\n",
      "╒═════╤══════╕\n",
      "│ A_0 │ 0.25 │\n",
      "├─────┼──────┤\n",
      "│ A_1 │ 0.4  │\n",
      "├─────┼──────┤\n",
      "│ A_2 │ 0.35 │\n",
      "╘═════╧══════╛\n",
      "CPD of S:\n",
      "╒═════╤═════╕\n",
      "│ S_0 │ 0.5 │\n",
      "├─────┼─────┤\n",
      "│ S_1 │ 0.5 │\n",
      "╘═════╧═════╛\n",
      "CPD of G:\n",
      "╒═════╤═════╤══════╕\n",
      "│ F   │ F_0 │ F_1  │\n",
      "├─────┼─────┼──────┤\n",
      "│ G_0 │ 0.2 │ 0.01 │\n",
      "├─────┼─────┼──────┤\n",
      "│ G_1 │ 0.8 │ 0.99 │\n",
      "╘═════╧═════╧══════╛\n"
     ]
    }
   ],
   "source": [
    "for cpd in fraud_model.get_cpds():\n",
    "    print(\"CPD of {variable}:\".format(variable=cpd.variable))\n",
    "    print(cpd)"
   ]
  },
  {
   "cell_type": "code",
   "execution_count": 34,
   "metadata": {
    "collapsed": true,
    "tags": [
     "hid",
     "l5",
     "s5"
    ]
   },
   "outputs": [],
   "source": [
    "ref_tmp_var = False\n",
    "\n",
    "a = 1\n",
    "try:\n",
    "    if a == 1:\n",
    "        ref_assert_var = True\n",
    "        ref_tmp_var = True\n",
    "    else:\n",
    "        ref_assert_var = False\n",
    "        print('Please follow the instructions given and use the same variables provided in the instructions.')\n",
    "except Exception:\n",
    "    print('Please follow the instructions given and use the same variables provided in the instructions.')\n",
    "\n",
    "assert ref_tmp_var"
   ]
  },
  {
   "cell_type": "markdown",
   "metadata": {
    "tags": [
     "content",
     "l6",
     "s6"
    ]
   },
   "source": [
    "## Computations of Probabilities\n",
    "\n",
    "The next logical step will be the computation of probabilities and CPDs of various nodes within the Bayesian Model by specifying evidence.\n",
    "This will give us inferences of different variables based on the evidences observed.\n",
    "\n",
    "``` python\n",
    "\n",
    "from pgmpy.inference.base import Inference\n",
    "from pgmpy.factors import factor_product\n",
    "\n",
    "import itertools\n",
    "\n",
    "\n",
    "class SimpleInference(Inference):\n",
    "    def query(self, var, evidence):\n",
    "        # self.factors is a dict of the form of {node: [factors_involving_node]}\n",
    "        factors_list = set(itertools.chain(*self.factors.values()))\n",
    "        product = factor_product(*factors_list)\n",
    "        reduced_prod = product.reduce(evidence, inplace=False)\n",
    "        reduced_prod.normalize()\n",
    "        var_to_marg = set(self.model.nodes()) - set(var) - set([state[0] for state in evidence])\n",
    "        marg_prod = reduced_prod.marginalize(var_to_marg, inplace=False)\n",
    "        return marg_prod\n",
    "```\n",
    "\n",
    "\n",
    "### Computing CPDs against Evidence\n",
    "\n",
    "Let us first begin by observing the evidence of Age, where A=1 (middle category). Refer to the diagram below. In this case, Age is the variable being observed as evidence. Jewelry is the variable being inferred. What do we understand by this evidence?\n",
    "\n",
    "* Query J|A=1 and assign to j\n",
    "\n",
    "<img src=\"../images/fraud_model2.png\", style=\"width: 500px;\">"
   ]
  },
  {
   "cell_type": "code",
   "execution_count": 35,
   "metadata": {
    "collapsed": true,
    "tags": [
     "ce",
     "l6",
     "s6"
    ]
   },
   "outputs": [],
   "source": [
    "from pgmpy.inference.base import Inference\n",
    "from pgmpy.factors import factor_product\n",
    "\n",
    "import itertools\n",
    "\n",
    "\n",
    "class SimpleInference(Inference):\n",
    "    def query(self, var, evidence):\n",
    "        # self.factors is a dict of the form of {node: [factors_involving_node]}\n",
    "        factors_list = set(itertools.chain(*self.factors.values()))\n",
    "        product = factor_product(*factors_list)\n",
    "        reduced_prod = product.reduce(evidence, inplace=False)\n",
    "        reduced_prod.normalize()\n",
    "        var_to_marg = set(self.model.nodes()) - set(var) - set([state[0] for state in evidence])\n",
    "        marg_prod = reduced_prod.marginalize(var_to_marg, inplace=False)\n",
    "        return marg_prod"
   ]
  },
  {
   "cell_type": "markdown",
   "metadata": {
    "tags": [
     "l6",
     "s6",
     "hint"
    ]
   },
   "source": [
    "Use SimpleInference(fraud_model)"
   ]
  },
  {
   "cell_type": "code",
   "execution_count": 36,
   "metadata": {
    "tags": [
     "l6",
     "s6",
     "ans"
    ]
   },
   "outputs": [
    {
     "name": "stdout",
     "output_type": "stream",
     "text": [
      "╒═════╤══════════╕\n",
      "│ J   │   phi(J) │\n",
      "╞═════╪══════════╡\n",
      "│ J_0 │   0.8580 │\n",
      "├─────┼──────────┤\n",
      "│ J_1 │   0.1420 │\n",
      "╘═════╧══════════╛\n"
     ]
    }
   ],
   "source": [
    "infer = SimpleInference(fraud_model)\n",
    "j = infer.query(var=['J'], evidence=[('A', 1)])\n",
    "print(j)"
   ]
  },
  {
   "cell_type": "code",
   "execution_count": 37,
   "metadata": {
    "collapsed": true,
    "tags": [
     "hid",
     "s6",
     "l6"
    ]
   },
   "outputs": [],
   "source": [
    "ref_tmp_var = False\n",
    "\n",
    "import numpy as np\n",
    "\n",
    "try:\n",
    "    if abs(j.values[0] - 0.858) < 0.1:\n",
    "        ref_assert_var = True\n",
    "        ref_tmp_var = True\n",
    "    else:\n",
    "        ref_assert_var = False\n",
    "        print('Please follow the instructions given and use the same variables provided in the instructions.')\n",
    "except Exception:\n",
    "    print('Please follow the instructions given and use the same variables provided in the instructions.')\n",
    "\n",
    "assert ref_tmp_var"
   ]
  },
  {
   "cell_type": "markdown",
   "metadata": {
    "tags": [
     "l7",
     "s7",
     "content"
    ]
   },
   "source": [
    "What do we infer from the output of the code above? It is evident that, if Age is observed with A=1, it can be inferred that there is a high probability of Jewelr, J=0. That is, the probability of Jewelry being bough becomes very low.\n",
    "\n",
    "# Conditional Independence\n",
    "\n",
    "Two events A and B are independent if:\n",
    "\n",
    "$$P(A∩B) = P(A) P(B) $$ and by extension\n",
    "\n",
    "$$P(A|B) = P(A)$$\n",
    "\n",
    "We can extend this to conditional independence. Two events A and B are conditionally independent given an event C with \n",
    "P(C)>0 if\n",
    "\n",
    "$$P(A∩B|C)=P(A|C)P(B|C)$$\n",
    "\n",
    "Let us say we have 3 random variables X, Y and Z.\n",
    "\n",
    "By definition, X  and Y are conditionally independent [given Z] if given the knowledge of Z, probability of X gives no information on the probability of Y, and vice versa.\n",
    "\n",
    "For random variables X and Y,\n",
    "\n",
    "\n",
    "\\begin{align}\n",
    " P \\models     X \\perp Y | Z \\\\\n",
    " if: \\\\\n",
    " P(X \\cap Y   |  Z)  =  P(X | Z) * P(Y | Z) \\\\\n",
    " P(X | Y,Z)  =  P(X | Z) \\\\\n",
    " P(Y | X,Z)  =  P(Y | Z) \\\\\n",
    "\\end{align}\n",
    "\n",
    "## Study of Conditional Independence\n",
    "\n",
    "To study the conditional independence using pgmpy, let us look at individiual CPDs of gas and jewelry from the Fraud Modeling example. Please refer to the example from section, \"Fraud Modeling Example using pgmpy.\"\n",
    "\n",
    "What happens if evidence of Fraud is provided to Gas and Jewelry? Let us reassign evidence of Fraud, ('F', 0) to the infer.query() and see the results.\n",
    "\n",
    "<img src=\"../images/fraud_model4.png\", style=\"width: 500px;\">"
   ]
  },
  {
   "cell_type": "code",
   "execution_count": 73,
   "metadata": {
    "tags": [
     "l7",
     "s7",
     "ce"
    ]
   },
   "outputs": [
    {
     "name": "stdout",
     "output_type": "stream",
     "text": [
      "╒═════╤══════════╕\n",
      "│ G   │   phi(G) │\n",
      "╞═════╪══════════╡\n",
      "│ G_0 │   0.0290 │\n",
      "├─────┼──────────┤\n",
      "│ G_1 │   0.9710 │\n",
      "╘═════╧══════════╛\n",
      "╒═════╤══════════╕\n",
      "│ J   │   phi(J) │\n",
      "╞═════╪══════════╡\n",
      "│ J_0 │   0.8614 │\n",
      "├─────┼──────────┤\n",
      "│ J_1 │   0.1386 │\n",
      "╘═════╧══════════╛\n"
     ]
    }
   ],
   "source": [
    "gas = infer.query(var=['G'], evidence=[])\n",
    "print(gas)\n",
    "\n",
    "jewelry = infer.query(var=['J'], evidence=[])\n",
    "print(jewelry)"
   ]
  },
  {
   "cell_type": "markdown",
   "metadata": {
    "tags": [
     "l7",
     "s7",
     "hint"
    ]
   },
   "source": []
  },
  {
   "cell_type": "code",
   "execution_count": 74,
   "metadata": {
    "tags": [
     "l7",
     "s7",
     "ans"
    ]
   },
   "outputs": [
    {
     "name": "stdout",
     "output_type": "stream",
     "text": [
      "╒═════╤══════════╕\n",
      "│ G   │   phi(G) │\n",
      "╞═════╪══════════╡\n",
      "│ G_0 │   0.2000 │\n",
      "├─────┼──────────┤\n",
      "│ G_1 │   0.8000 │\n",
      "╘═════╧══════════╛\n",
      "╒═════╤══════════╕\n",
      "│ J   │   phi(J) │\n",
      "╞═════╪══════════╡\n",
      "│ J_0 │   0.0642 │\n",
      "├─────┼──────────┤\n",
      "│ J_1 │   0.9357 │\n",
      "╘═════╧══════════╛\n"
     ]
    }
   ],
   "source": [
    "gas = infer.query(var=[('G')], evidence=[('F', 0)])\n",
    "print(gas)\n",
    "\n",
    "jewelry = infer.query(var=['J'], evidence=[('F', 0)])\n",
    "print(jewelry)"
   ]
  },
  {
   "cell_type": "code",
   "execution_count": 75,
   "metadata": {
    "collapsed": true,
    "tags": [
     "l7",
     "hid",
     "s7"
    ]
   },
   "outputs": [],
   "source": [
    "ref_tmp_var = False\n",
    "\n",
    "try:\n",
    "    if (abs(gas.values[0] - 0.2) < 0.1) and (abs(jewelry.values[0] - 0.0643) < 0.1):\n",
    "        ref_assert_var = True\n",
    "        ref_tmp_var = True\n",
    "    else:\n",
    "        ref_assert_var = False\n",
    "        print('Please follow the instructions given and use the same variables provided in the instructions.')\n",
    "except Exception:\n",
    "    print('Please follow the instructions given and use the same variables provided in the instructions.')\n",
    "\n",
    "assert ref_tmp_var"
   ]
  },
  {
   "cell_type": "markdown",
   "metadata": {
    "tags": [
     "s8",
     "content",
     "l8"
    ]
   },
   "source": [
    "## V-Structure\n",
    "\n",
    "With no evidence, $A \\perp S \\space | \\space J$ To study V-structure, let us look at age, sex CPDs.\n",
    "\n",
    "\n",
    "<img src=\"../images/v-structure2.png\", style=\"width: 500px;\">\n",
    "\n",
    "\n",
    "### With Evidence\n",
    "\n",
    "* What happens if evidence of Jewelry is observed? Use evidence ('J', 0) and see CPDs change."
   ]
  },
  {
   "cell_type": "code",
   "execution_count": 76,
   "metadata": {
    "tags": [
     "s8",
     "ce",
     "l8"
    ]
   },
   "outputs": [
    {
     "name": "stdout",
     "output_type": "stream",
     "text": [
      "╒═════╤══════════╕\n",
      "│ A   │   phi(A) │\n",
      "╞═════╪══════════╡\n",
      "│ A_0 │   0.2500 │\n",
      "├─────┼──────────┤\n",
      "│ A_1 │   0.4000 │\n",
      "├─────┼──────────┤\n",
      "│ A_2 │   0.3500 │\n",
      "╘═════╧══════════╛\n",
      "╒═════╤══════════╕\n",
      "│ S   │   phi(S) │\n",
      "╞═════╪══════════╡\n",
      "│ S_0 │   0.5000 │\n",
      "├─────┼──────────┤\n",
      "│ S_1 │   0.5000 │\n",
      "╘═════╧══════════╛\n"
     ]
    }
   ],
   "source": [
    "age = infer.query(var=['A'], evidence=[])\n",
    "print(age)\n",
    "\n",
    "sex = infer.query(var=['S'], evidence=[])\n",
    "print(sex)"
   ]
  },
  {
   "cell_type": "markdown",
   "metadata": {
    "tags": [
     "s8",
     "l8",
     "hint"
    ]
   },
   "source": [
    "Use evidence=[('J', 0)]"
   ]
  },
  {
   "cell_type": "code",
   "execution_count": 77,
   "metadata": {
    "tags": [
     "s8",
     "l8",
     "ans"
    ]
   },
   "outputs": [
    {
     "name": "stdout",
     "output_type": "stream",
     "text": [
      "╒═════╤══════════╕\n",
      "│ A   │   phi(A) │\n",
      "╞═════╪══════════╡\n",
      "│ A_0 │   0.2518 │\n",
      "├─────┼──────────┤\n",
      "│ A_1 │   0.3984 │\n",
      "├─────┼──────────┤\n",
      "│ A_2 │   0.3498 │\n",
      "╘═════╧══════════╛\n",
      "╒═════╤══════════╕\n",
      "│ S   │   phi(S) │\n",
      "╞═════╪══════════╡\n",
      "│ S_0 │   0.5005 │\n",
      "├─────┼──────────┤\n",
      "│ S_1 │   0.4995 │\n",
      "╘═════╧══════════╛\n"
     ]
    }
   ],
   "source": [
    "age = infer.query(var=['A'], evidence=[('J', 0)])\n",
    "print(age)\n",
    "\n",
    "sex = infer.query(var=['S'], evidence=[('J', 0)])\n",
    "print(sex)"
   ]
  },
  {
   "cell_type": "code",
   "execution_count": 78,
   "metadata": {
    "collapsed": true,
    "tags": [
     "s8",
     "l8",
     "hid"
    ]
   },
   "outputs": [],
   "source": [
    "ref_tmp_var = False\n",
    "\n",
    "try:\n",
    "    if (abs(age.values[0] - 0.2518) < 0.1) and (abs(sex.values[0] - 0.5005) < 0.1):\n",
    "        ref_assert_var = True\n",
    "        ref_tmp_var = True\n",
    "    else:\n",
    "        ref_assert_var = False\n",
    "        print('Please follow the instructions given and use the same variables provided in the instructions.')\n",
    "except Exception:\n",
    "    print('Please follow the instructions given and use the same variables provided in the instructions.')\n",
    "\n",
    "assert ref_tmp_var"
   ]
  },
  {
   "cell_type": "markdown",
   "metadata": {
    "tags": [
     "l9",
     "content",
     "s9"
    ]
   },
   "source": [
    "As you can see above, on Jewelry being observed with J=0, Age tends to be lower A=0.\n",
    "Similarly, the sex of the fraud perpetrators more likely seem to be male (S=0).\n",
    "\n",
    "<img src=\"../images/fraud_model3.png\", style=\"width: 500px;\">\n",
    "\n",
    "### Observe Jewelry=1\n",
    "\n",
    "* Does age/sex cpds change for Jewelry=1?"
   ]
  },
  {
   "cell_type": "code",
   "execution_count": 79,
   "metadata": {
    "tags": [
     "l9",
     "ce",
     "s9"
    ]
   },
   "outputs": [
    {
     "name": "stdout",
     "output_type": "stream",
     "text": [
      "╒═════╤══════════╕\n",
      "│ A   │   phi(A) │\n",
      "╞═════╪══════════╡\n",
      "│ A_0 │   0.2518 │\n",
      "├─────┼──────────┤\n",
      "│ A_1 │   0.3984 │\n",
      "├─────┼──────────┤\n",
      "│ A_2 │   0.3498 │\n",
      "╘═════╧══════════╛\n",
      "╒═════╤══════════╕\n",
      "│ S   │   phi(S) │\n",
      "╞═════╪══════════╡\n",
      "│ S_0 │   0.5005 │\n",
      "├─────┼──────────┤\n",
      "│ S_1 │   0.4995 │\n",
      "╘═════╧══════════╛\n"
     ]
    }
   ],
   "source": [
    "age = infer.query(var=['A'], evidence=[('J', 0)])\n",
    "print(age)\n",
    "\n",
    "sex = infer.query(var=['S'], evidence=[('J', 0)])\n",
    "print(sex)"
   ]
  },
  {
   "cell_type": "markdown",
   "metadata": {
    "tags": [
     "s9",
     "l9",
     "hint"
    ]
   },
   "source": [
    "Use ('J', 1) as evidence"
   ]
  },
  {
   "cell_type": "code",
   "execution_count": 80,
   "metadata": {
    "tags": [
     "s9",
     "l9",
     "ans"
    ]
   },
   "outputs": [
    {
     "name": "stdout",
     "output_type": "stream",
     "text": [
      "╒═════╤══════════╕\n",
      "│ A   │   phi(A) │\n",
      "╞═════╪══════════╡\n",
      "│ A_0 │   0.2390 │\n",
      "├─────┼──────────┤\n",
      "│ A_1 │   0.4099 │\n",
      "├─────┼──────────┤\n",
      "│ A_2 │   0.3511 │\n",
      "╘═════╧══════════╛\n",
      "╒═════╤══════════╕\n",
      "│ S   │   phi(S) │\n",
      "╞═════╪══════════╡\n",
      "│ S_0 │   0.4968 │\n",
      "├─────┼──────────┤\n",
      "│ S_1 │   0.5032 │\n",
      "╘═════╧══════════╛\n"
     ]
    }
   ],
   "source": [
    "age = infer.query(var=['A'], evidence=[('J', 1)])\n",
    "print(age)\n",
    "\n",
    "sex = infer.query(var=['S'], evidence=[('J', 1)])\n",
    "print(sex)"
   ]
  },
  {
   "cell_type": "code",
   "execution_count": 81,
   "metadata": {
    "collapsed": true,
    "tags": [
     "l9",
     "hid",
     "s9"
    ]
   },
   "outputs": [],
   "source": [
    "ref_tmp_var = False\n",
    "\n",
    "try:\n",
    "    if (abs(age.values[0] - 0.2390) < 0.1) and (abs(sex.values[0] - 0.4968) < 0.1):\n",
    "        ref_assert_var = True\n",
    "        ref_tmp_var = True\n",
    "    else:\n",
    "        ref_assert_var = False\n",
    "        print('Please follow the instructions given and use the same variables provided in the instructions.')\n",
    "except Exception:\n",
    "    print('Please follow the instructions given and use the same variables provided in the instructions.')\n",
    "\n",
    "assert ref_tmp_var"
   ]
  },
  {
   "cell_type": "markdown",
   "metadata": {
    "tags": [
     "l10",
     "content",
     "s10"
    ]
   },
   "source": [
    "It is evident that up on Jewelry being observed with J=1, Age tends to be higher with higher probability of A=1 and A=2. Similarly, the sex of the fraud perpetrators more likely seem to be female (S=0).\n",
    "\n",
    "Observing Jewelry, will block the trail from Age to Sex and vice versa. Now let us get to the next question,\n",
    "\n",
    "## Does Sex Influence Age Without Observing Jewelry?\n",
    "\n",
    "Let us observe evidence of Sex and see how Sex influences Age. First let us observe S=0. "
   ]
  },
  {
   "cell_type": "code",
   "execution_count": 82,
   "metadata": {
    "collapsed": true,
    "tags": [
     "l10",
     "ce",
     "s10"
    ]
   },
   "outputs": [],
   "source": [
    "age_sex = infer.query(var=['A'], evidence=())"
   ]
  },
  {
   "cell_type": "markdown",
   "metadata": {
    "tags": [
     "l10",
     "hint",
     "s10"
    ]
   },
   "source": [
    "Use evidence=[('S', 0)]"
   ]
  },
  {
   "cell_type": "code",
   "execution_count": 83,
   "metadata": {
    "tags": [
     "l10",
     "ans",
     "s10"
    ]
   },
   "outputs": [
    {
     "name": "stdout",
     "output_type": "stream",
     "text": [
      "╒═════╤══════════╕\n",
      "│ A   │   phi(A) │\n",
      "╞═════╪══════════╡\n",
      "│ A_0 │   0.2500 │\n",
      "├─────┼──────────┤\n",
      "│ A_1 │   0.4000 │\n",
      "├─────┼──────────┤\n",
      "│ A_2 │   0.3500 │\n",
      "╘═════╧══════════╛\n"
     ]
    }
   ],
   "source": [
    "age_sex = infer.query(var=['A'], evidence=[('S', 0)])\n",
    "print(age_sex)"
   ]
  },
  {
   "cell_type": "code",
   "execution_count": 84,
   "metadata": {
    "collapsed": true,
    "tags": [
     "l10",
     "hid",
     "s10"
    ]
   },
   "outputs": [],
   "source": [
    "ref_tmp_var = False\n",
    "\n",
    "try:\n",
    "    if abs(age_sex.values[0] - 0.2500) < 0.1:\n",
    "        ref_assert_var = True\n",
    "        ref_tmp_var = True\n",
    "    else:\n",
    "        ref_assert_var = False\n",
    "        print('Please follow the instructions given and use the same variables provided in the instructions.')\n",
    "except Exception:\n",
    "    print('Please follow the instructions given and use the same variables provided in the instructions.')\n",
    "\n",
    "assert ref_tmp_var"
   ]
  },
  {
   "cell_type": "markdown",
   "metadata": {
    "tags": [
     "l11",
     "content",
     "s11"
    ]
   },
   "source": [
    "We can infer that Sex does not influence without observing jewelry. This means without Jewelry being observed, Age is independent of Sex.\n",
    "\n",
    "<img src=\"../images/fraud_model6.png\", style=\"width: 500px;\">\n",
    "\n",
    "\n",
    "## Does Age Influence Sex Without Observing Jewelry?"
   ]
  },
  {
   "cell_type": "code",
   "execution_count": 85,
   "metadata": {
    "tags": [
     "l11",
     "ce",
     "s11"
    ]
   },
   "outputs": [
    {
     "name": "stdout",
     "output_type": "stream",
     "text": [
      "╒═════╤══════════╕\n",
      "│ S   │   phi(S) │\n",
      "╞═════╪══════════╡\n",
      "│ S_0 │   0.5000 │\n",
      "├─────┼──────────┤\n",
      "│ S_1 │   0.5000 │\n",
      "╘═════╧══════════╛\n"
     ]
    }
   ],
   "source": [
    "\n",
    "sex_age = infer.query(var=['S'], evidence=[])\n",
    "print(sex_age)"
   ]
  },
  {
   "cell_type": "markdown",
   "metadata": {
    "tags": [
     "l11",
     "s11",
     "hint"
    ]
   },
   "source": [
    "Use evidence=[('A', 0)]"
   ]
  },
  {
   "cell_type": "code",
   "execution_count": 86,
   "metadata": {
    "tags": [
     "ans",
     "l11",
     "s11"
    ]
   },
   "outputs": [
    {
     "name": "stdout",
     "output_type": "stream",
     "text": [
      "╒═════╤══════════╕\n",
      "│ S   │   phi(S) │\n",
      "╞═════╪══════════╡\n",
      "│ S_0 │   0.5000 │\n",
      "├─────┼──────────┤\n",
      "│ S_1 │   0.5000 │\n",
      "╘═════╧══════════╛\n"
     ]
    }
   ],
   "source": [
    "sex_age = infer.query(var=['S'], evidence=[('A', 0)])\n",
    "print(sex_age)"
   ]
  },
  {
   "cell_type": "code",
   "execution_count": 87,
   "metadata": {
    "collapsed": true,
    "tags": [
     "l11",
     "hid",
     "s11"
    ]
   },
   "outputs": [],
   "source": [
    "ref_tmp_var = False\n",
    "\n",
    "try:\n",
    "    if abs(sex_age.values[0] - 0.500) < 0.1:\n",
    "        ref_assert_var = True\n",
    "        ref_tmp_var = True\n",
    "    else:\n",
    "        ref_assert_var = False\n",
    "        print('Please follow the instructions given and use the same variables provided in the instructions.')\n",
    "except Exception:\n",
    "    print('Please follow the instructions given and use the same variables provided in the instructions.')\n",
    "\n",
    "assert ref_tmp_var"
   ]
  },
  {
   "cell_type": "markdown",
   "metadata": {
    "tags": [
     "l12",
     "content",
     "s12"
    ]
   },
   "source": [
    "We can also infer that Age does not influence Sex without observing jewelry. This means without Jewelry being observed, Sex is independent of Age.\n",
    "\n",
    "## What if We Observe Jewelry? Does the Influence Flow from Sex to Age?\n",
    "\n",
    "\n",
    "<img src=\"../images/fraud_model3.png\", style=\"width: 500px;\">\n",
    "\n",
    "Let us look at the fraud modeling example, with Jewelry being observed. What do we infer about the flow from Sex to age and vice versa?  "
   ]
  },
  {
   "cell_type": "code",
   "execution_count": 88,
   "metadata": {
    "tags": [
     "l12",
     "ce",
     "s12"
    ]
   },
   "outputs": [
    {
     "name": "stdout",
     "output_type": "stream",
     "text": [
      "╒═════╤══════════╕\n",
      "│ A   │   phi(A) │\n",
      "╞═════╪══════════╡\n",
      "│ A_0 │   0.2500 │\n",
      "├─────┼──────────┤\n",
      "│ A_1 │   0.4000 │\n",
      "├─────┼──────────┤\n",
      "│ A_2 │   0.3500 │\n",
      "╘═════╧══════════╛\n"
     ]
    }
   ],
   "source": [
    "age_sex = infer.query(var=['A'], evidence=[('S', 0)])\n",
    "print(age_sex)"
   ]
  },
  {
   "cell_type": "markdown",
   "metadata": {
    "tags": [
     "l12",
     "s12",
     "hint"
    ]
   },
   "source": [
    "Use ('J', 0) as additional evidence."
   ]
  },
  {
   "cell_type": "code",
   "execution_count": 89,
   "metadata": {
    "tags": [
     "l12",
     "s12",
     "ans"
    ]
   },
   "outputs": [
    {
     "name": "stdout",
     "output_type": "stream",
     "text": [
      "╒═════╤══════════╕\n",
      "│ A   │   phi(A) │\n",
      "╞═════╪══════════╡\n",
      "│ A_0 │   0.2537 │\n",
      "├─────┼──────────┤\n",
      "│ A_1 │   0.3985 │\n",
      "├─────┼──────────┤\n",
      "│ A_2 │   0.3478 │\n",
      "╘═════╧══════════╛\n"
     ]
    }
   ],
   "source": [
    "age_sex = infer.query(var=['A'], evidence=[('S', 0), ('J', 0)])\n",
    "print(age_sex)"
   ]
  },
  {
   "cell_type": "code",
   "execution_count": 90,
   "metadata": {
    "collapsed": true,
    "tags": [
     "l12",
     "hid",
     "s12"
    ]
   },
   "outputs": [],
   "source": [
    "ref_tmp_var = False\n",
    "\n",
    "try:\n",
    "    if abs(age_sex.values[0] - 0.2537) < 0.1:\n",
    "        ref_assert_var = True\n",
    "        ref_tmp_var = True\n",
    "    else:\n",
    "        ref_assert_var = False\n",
    "        print('Please follow the instructions given and use the same variables provided in the instructions.')\n",
    "except Exception:\n",
    "    print('Please follow the instructions given and use the same variables provided in the instructions.')\n",
    "\n",
    "assert ref_tmp_var"
   ]
  },
  {
   "cell_type": "markdown",
   "metadata": {
    "tags": [
     "l13",
     "content",
     "s13"
    ]
   },
   "source": [
    "It is clear that with Jewelry being observed Age does influence Sex. In other words, Sex is not conditionally independent on Age given Jewelry.\n",
    "\n",
    "## Observing Jewelry - Does the Influence Flow from Age to Sex?\n",
    "\n",
    "From the above case, let us look at influence flow from Age to Sex, given Jewelry."
   ]
  },
  {
   "cell_type": "code",
   "execution_count": 91,
   "metadata": {
    "tags": [
     "l13",
     "ce",
     "s13"
    ]
   },
   "outputs": [
    {
     "name": "stdout",
     "output_type": "stream",
     "text": [
      "╒═════╤══════════╕\n",
      "│ S   │   phi(S) │\n",
      "╞═════╪══════════╡\n",
      "│ S_0 │   0.5000 │\n",
      "├─────┼──────────┤\n",
      "│ S_1 │   0.5000 │\n",
      "╘═════╧══════════╛\n"
     ]
    }
   ],
   "source": [
    "sex_age = infer.query(var=['S'], evidence=[])\n",
    "print(sex_age)"
   ]
  },
  {
   "cell_type": "markdown",
   "metadata": {
    "tags": [
     "l13",
     "s13",
     "hint"
    ]
   },
   "source": [
    "Use evidence=('A', 0), ('J', 0)"
   ]
  },
  {
   "cell_type": "code",
   "execution_count": 92,
   "metadata": {
    "tags": [
     "l13",
     "s13",
     "ans"
    ]
   },
   "outputs": [
    {
     "name": "stdout",
     "output_type": "stream",
     "text": [
      "╒═════╤══════════╕\n",
      "│ S   │   phi(S) │\n",
      "╞═════╪══════════╡\n",
      "│ S_0 │   0.5043 │\n",
      "├─────┼──────────┤\n",
      "│ S_1 │   0.4957 │\n",
      "╘═════╧══════════╛\n"
     ]
    }
   ],
   "source": [
    "sex_age = infer.query(var=['S'], evidence=[('A', 0), ('J', 0)])\n",
    "print(sex_age)"
   ]
  },
  {
   "cell_type": "code",
   "execution_count": 93,
   "metadata": {
    "collapsed": true,
    "tags": [
     "l13",
     "hid",
     "s13"
    ]
   },
   "outputs": [],
   "source": [
    "ref_tmp_var = False\n",
    "\n",
    "try:\n",
    "    if abs(sex_age.values[0] - 0.5043) < 0.1:\n",
    "        ref_assert_var = True\n",
    "        ref_tmp_var = True\n",
    "    else:\n",
    "        ref_assert_var = False\n",
    "        print('Please follow the instructions given and use the same variables provided in the instructions.')\n",
    "except Exception:\n",
    "    print('Please follow the instructions given and use the same variables provided in the instructions.')\n",
    "\n",
    "assert ref_tmp_var"
   ]
  },
  {
   "cell_type": "markdown",
   "metadata": {
    "tags": [
     "l14",
     "content",
     "s14"
    ]
   },
   "source": [
    "Similarly, we find that on Jewelry being observed with J=0 (jewelry not being bought), the sex tends to be S=0 or male being the perpetrator of fraud given the evidence of A=0 or lowest age group.\n",
    "\n",
    "## Conditional Independence - Does Jewelry Influence Gas?\n",
    "\n",
    "Let us now look at the conditional independence of Jewelry and Gas.\n",
    "\n",
    "First let us take the evidence of J=0 (no jewelry being bought) and F=0(No fraud happening). What do we infer about Gas being bought?"
   ]
  },
  {
   "cell_type": "code",
   "execution_count": 94,
   "metadata": {
    "tags": [
     "l14",
     "ce",
     "s14"
    ]
   },
   "outputs": [
    {
     "name": "stdout",
     "output_type": "stream",
     "text": [
      "╒═════╤══════════╕\n",
      "│ G   │   phi(G) │\n",
      "╞═════╪══════════╡\n",
      "│ G_0 │   0.0114 │\n",
      "├─────┼──────────┤\n",
      "│ G_1 │   0.9886 │\n",
      "╘═════╧══════════╛\n"
     ]
    }
   ],
   "source": [
    "gas_j = infer.query(var=['G'], evidence=[('J', 0)])\n",
    "print(gas_j)"
   ]
  },
  {
   "cell_type": "markdown",
   "metadata": {
    "tags": [
     "l14",
     "hint",
     "s14"
    ]
   },
   "source": []
  },
  {
   "cell_type": "code",
   "execution_count": 95,
   "metadata": {
    "tags": [
     "ans",
     "l14",
     "s14"
    ]
   },
   "outputs": [
    {
     "name": "stdout",
     "output_type": "stream",
     "text": [
      "╒═════╤══════════╕\n",
      "│ G   │   phi(G) │\n",
      "╞═════╪══════════╡\n",
      "│ G_0 │   0.2000 │\n",
      "├─────┼──────────┤\n",
      "│ G_1 │   0.8000 │\n",
      "╘═════╧══════════╛\n"
     ]
    }
   ],
   "source": [
    "gas_j = infer.query(var=['G'], evidence=[('J', 0), ('F', 0)])\n",
    "print(gas_j)"
   ]
  },
  {
   "cell_type": "code",
   "execution_count": 96,
   "metadata": {
    "collapsed": true,
    "tags": [
     "hid",
     "s14",
     "l14"
    ]
   },
   "outputs": [],
   "source": [
    "ref_tmp_var = False\n",
    "\n",
    "try:\n",
    "    if abs(gas_j.values[0] - 0.2000) < 0.1:\n",
    "        ref_assert_var = True\n",
    "        ref_tmp_var = True\n",
    "    else:\n",
    "        ref_assert_var = False\n",
    "        print('Please follow the instructions given and use the same variables provided in the instructions.')\n",
    "except Exception:\n",
    "    print('Please follow the instructions given and use the same variables provided in the instructions.')\n",
    "\n",
    "assert ref_tmp_var"
   ]
  },
  {
   "cell_type": "markdown",
   "metadata": {
    "tags": [
     "l15",
     "content",
     "s15"
    ]
   },
   "source": [
    "In general, there is a high probability that Gas being bought if Jewelry is not being bought, where there Fraud is being observed (F=0).\n",
    "\n",
    "## p(J|G) if Fraud is Not Observed\n",
    "\n",
    "<img src=\"../images/fraud_model7.png\", style=\"width: 500px;\">\n",
    "\n",
    "From the above diagram, let us take the case of Fraud not being observed. What is the impact of Gas on Jewelry?\n",
    "\n",
    "First let us look at the case of Gas being bought (G=1)."
   ]
  },
  {
   "cell_type": "code",
   "execution_count": 38,
   "metadata": {
    "tags": [
     "l15",
     "ce",
     "s15"
    ]
   },
   "outputs": [
    {
     "name": "stdout",
     "output_type": "stream",
     "text": [
      "╒═════╤══════════╕\n",
      "│ J   │   phi(J) │\n",
      "╞═════╪══════════╡\n",
      "│ J_0 │   0.8614 │\n",
      "├─────┼──────────┤\n",
      "│ J_1 │   0.1386 │\n",
      "╘═════╧══════════╛\n"
     ]
    }
   ],
   "source": [
    "jewel_g = infer.query(var=['J'], evidence=[])\n",
    "print(jewel_g)"
   ]
  },
  {
   "cell_type": "markdown",
   "metadata": {
    "tags": [
     "l15",
     "s15",
     "hint"
    ]
   },
   "source": []
  },
  {
   "cell_type": "code",
   "execution_count": 98,
   "metadata": {
    "tags": [
     "l15",
     "s15",
     "ans"
    ]
   },
   "outputs": [
    {
     "name": "stdout",
     "output_type": "stream",
     "text": [
      "╒═════╤══════════╕\n",
      "│ J   │   phi(J) │\n",
      "╞═════╪══════════╡\n",
      "│ J_0 │   0.8770 │\n",
      "├─────┼──────────┤\n",
      "│ J_1 │   0.1230 │\n",
      "╘═════╧══════════╛\n"
     ]
    }
   ],
   "source": [
    "jewel_g = infer.query(var=['J'], evidence=[('G', 1)])\n",
    "print(jewel_g)"
   ]
  },
  {
   "cell_type": "code",
   "execution_count": 99,
   "metadata": {
    "collapsed": true,
    "tags": [
     "hid",
     "l15",
     "s15"
    ]
   },
   "outputs": [],
   "source": [
    "ref_tmp_var = False\n",
    "\n",
    "try:\n",
    "    if abs(jewel_g.values[0] - 0.8770) < 0.1:\n",
    "        ref_assert_var = True\n",
    "        ref_tmp_var = True\n",
    "    else:\n",
    "        ref_assert_var = False\n",
    "        print('Please follow the instructions given and use the same variables provided in the instructions.')\n",
    "except Exception:\n",
    "    print('Please follow the instructions given and use the same variables provided in the instructions.')\n",
    "\n",
    "assert ref_tmp_var"
   ]
  },
  {
   "cell_type": "markdown",
   "metadata": {
    "tags": [
     "l16",
     "content",
     "s16"
    ]
   },
   "source": [
    "In this case there is a very high probability that Jewelry is not being bought, when Fraud is not observed.\n",
    "\n",
    "## p(J|G) if Fraud is Not Observed\n",
    "\n",
    "What happens when Gas is not bought (G=0)? Let us set the evidence of G = 0."
   ]
  },
  {
   "cell_type": "code",
   "execution_count": 100,
   "metadata": {
    "tags": [
     "l16",
     "ce",
     "s16"
    ]
   },
   "outputs": [
    {
     "name": "stdout",
     "output_type": "stream",
     "text": [
      "╒═════╤══════════╕\n",
      "│ J   │   phi(J) │\n",
      "╞═════╪══════════╡\n",
      "│ J_0 │   0.8614 │\n",
      "├─────┼──────────┤\n",
      "│ J_1 │   0.1386 │\n",
      "╘═════╧══════════╛\n"
     ]
    }
   ],
   "source": [
    "jewel_g = infer.query(var=['J'], evidence=[])\n",
    "print(jewel_g)"
   ]
  },
  {
   "cell_type": "markdown",
   "metadata": {
    "tags": [
     "l16",
     "hint",
     "s16"
    ]
   },
   "source": [
    "Use ('G', 0)"
   ]
  },
  {
   "cell_type": "code",
   "execution_count": 101,
   "metadata": {
    "tags": [
     "l16",
     "ans",
     "s16"
    ]
   },
   "outputs": [
    {
     "name": "stdout",
     "output_type": "stream",
     "text": [
      "╒═════╤══════════╕\n",
      "│ J   │   phi(J) │\n",
      "╞═════╪══════════╡\n",
      "│ J_0 │   0.3391 │\n",
      "├─────┼──────────┤\n",
      "│ J_1 │   0.6609 │\n",
      "╘═════╧══════════╛\n"
     ]
    }
   ],
   "source": [
    "jewel_g = infer.query(var=['J'], evidence=[('G', 0)])\n",
    "print(jewel_g)"
   ]
  },
  {
   "cell_type": "code",
   "execution_count": 102,
   "metadata": {
    "collapsed": true,
    "tags": [
     "l16",
     "hid",
     "s16"
    ]
   },
   "outputs": [],
   "source": [
    "ref_tmp_var = False\n",
    "\n",
    "try:\n",
    "    if abs(jewel_g.values[0] - 0.3391) < 0.1:\n",
    "        ref_assert_var = True\n",
    "        ref_tmp_var = True\n",
    "    else:\n",
    "        ref_assert_var = False\n",
    "        print('Please follow the instructions given and use the same variables provided in the instructions.')\n",
    "except Exception:\n",
    "    print('Please follow the instructions given and use the same variables provided in the instructions.')\n",
    "\n",
    "assert ref_tmp_var"
   ]
  },
  {
   "cell_type": "markdown",
   "metadata": {
    "tags": [
     "s17",
     "content",
     "l17"
    ]
   },
   "source": [
    "There is a significant increase in the probability that Jewel is being bought.\n",
    "\n",
    "When Fraud is not observed, Jewelry and Gas have a negative correlation. In the case of Gas being bought, given no knowledge about Fraud, based on the results we can say that Jewelry is not being bought. Similary, when the probability of Gas not being bought is high, it can be seen that probability of Jewelry being bought is high.\n",
    "\n",
    "\n",
    "## p(J|G) if Fraud is Observed\n",
    "\n",
    "Let us turn our attention to what happens between Gas and Jewelry, when Fraud is being observed.\n",
    "\n",
    "<img src=\"../images/fraud_model4.png\", style=\"width: 500px;\">\n",
    "\n",
    "\n",
    "More precisely, what happens when we know there is no fraud (F=0)."
   ]
  },
  {
   "cell_type": "code",
   "execution_count": 103,
   "metadata": {
    "tags": [
     "s17",
     "ce",
     "l17"
    ]
   },
   "outputs": [
    {
     "name": "stdout",
     "output_type": "stream",
     "text": [
      "╒═════╤══════════╕\n",
      "│ J   │   phi(J) │\n",
      "╞═════╪══════════╡\n",
      "│ J_0 │   0.3391 │\n",
      "├─────┼──────────┤\n",
      "│ J_1 │   0.6609 │\n",
      "╘═════╧══════════╛\n"
     ]
    }
   ],
   "source": [
    "jewel_g = infer.query(var=['J'], evidence=[('G', 0)])\n",
    "print(jewel_g)"
   ]
  },
  {
   "cell_type": "markdown",
   "metadata": {
    "tags": [
     "l17",
     "s17",
     "hint"
    ]
   },
   "source": [
    "Use ('G', 0)"
   ]
  },
  {
   "cell_type": "code",
   "execution_count": 104,
   "metadata": {
    "tags": [
     "l17",
     "s17",
     "ans"
    ]
   },
   "outputs": [
    {
     "name": "stdout",
     "output_type": "stream",
     "text": [
      "╒═════╤══════════╕\n",
      "│ J   │   phi(J) │\n",
      "╞═════╪══════════╡\n",
      "│ J_0 │   0.0643 │\n",
      "├─────┼──────────┤\n",
      "│ J_1 │   0.9358 │\n",
      "╘═════╧══════════╛\n"
     ]
    }
   ],
   "source": [
    "jewel_g = infer.query(var=['J'], evidence=[('G', 0), ('F', 0)])\n",
    "print(jewel_g)"
   ]
  },
  {
   "cell_type": "code",
   "execution_count": 105,
   "metadata": {
    "collapsed": true,
    "tags": [
     "hid",
     "s17",
     "l17"
    ]
   },
   "outputs": [],
   "source": [
    "ref_tmp_var = False\n",
    "\n",
    "try:\n",
    "    if abs(jewel_g.values[0] - 0.0643) < 0.1:\n",
    "        ref_assert_var = True\n",
    "        ref_tmp_var = True\n",
    "    else:\n",
    "        ref_assert_var = False\n",
    "        print('Please follow the instructions given and use the same variables provided in the instructions.')\n",
    "except Exception:\n",
    "    print('Please follow the instructions given and use the same variables provided in the instructions.')\n",
    "\n",
    "assert ref_tmp_var"
   ]
  },
  {
   "cell_type": "markdown",
   "metadata": {
    "tags": [
     "s18",
     "content",
     "l18"
    ]
   },
   "source": [
    "It becomes very clear from the results, that there is a significant trend to buy Jewelry when Gas is not bought, when Fraud is observed (F=0).\n",
    "\n",
    "## Jewelry Given Gas Transaction = 1 and Fraud Observed Together\n",
    "\n",
    "<img src=\"../images/fraud_model4.png\", style=\"width: 500px;\">\n",
    "\n",
    "Similarly it can be seen from below that, even in the case that Gas is bought and Fraud is observed, the significant trend to buy Jewelry remains. This confirms our inference that Gas is conditionally independent on Jewelry given an observation of Fraud."
   ]
  },
  {
   "cell_type": "code",
   "execution_count": 106,
   "metadata": {
    "tags": [
     "s18",
     "ce",
     "l18"
    ]
   },
   "outputs": [
    {
     "name": "stdout",
     "output_type": "stream",
     "text": [
      "╒═════╤══════════╕\n",
      "│ J   │   phi(J) │\n",
      "╞═════╪══════════╡\n",
      "│ J_0 │   0.8614 │\n",
      "├─────┼──────────┤\n",
      "│ J_1 │   0.1386 │\n",
      "╘═════╧══════════╛\n"
     ]
    }
   ],
   "source": [
    "jewel_g = infer.query(var=['J'], evidence=[])\n",
    "print(jewel_g)"
   ]
  },
  {
   "cell_type": "markdown",
   "metadata": {
    "tags": [
     "s18",
     "l18",
     "hint"
    ]
   },
   "source": [
    "Use evidence of ('G', 1), ('F', 0)"
   ]
  },
  {
   "cell_type": "code",
   "execution_count": 107,
   "metadata": {
    "tags": [
     "s18",
     "l18",
     "ans"
    ]
   },
   "outputs": [
    {
     "name": "stdout",
     "output_type": "stream",
     "text": [
      "╒═════╤══════════╕\n",
      "│ J   │   phi(J) │\n",
      "╞═════╪══════════╡\n",
      "│ J_0 │   0.0643 │\n",
      "├─────┼──────────┤\n",
      "│ J_1 │   0.9358 │\n",
      "╘═════╧══════════╛\n"
     ]
    }
   ],
   "source": [
    "jewel_g = infer.query(var=['J'], evidence=[('G', 1), ('F', 0)])\n",
    "print(jewel_g)"
   ]
  },
  {
   "cell_type": "code",
   "execution_count": 108,
   "metadata": {
    "collapsed": true,
    "tags": [
     "s18",
     "hid",
     "l18"
    ]
   },
   "outputs": [],
   "source": [
    "ref_tmp_var = False\n",
    "\n",
    "try:\n",
    "    if abs(jewel_g.values[0] - 0.0643) < 0.1:\n",
    "        ref_assert_var = True\n",
    "        ref_tmp_var = True\n",
    "    else:\n",
    "        ref_assert_var = False\n",
    "        print('Please follow the instructions given and use the same variables provided in the instructions.')\n",
    "except Exception:\n",
    "    print('Please follow the instructions given and use the same variables provided in the instructions.')\n",
    "\n",
    "assert ref_tmp_var"
   ]
  },
  {
   "cell_type": "markdown",
   "metadata": {
    "tags": [
     "s19",
     "l19",
     "content"
    ]
   },
   "source": [
    "However, it is also seen that when Fraud is observed (F=0) and also Gas is bought, the trend to buy Jewelry continues.\n",
    "This shows that when Fraud is being observed, Jewelry is independent of Gas. ($ J \\perp G \\space | \\space  F $)\n",
    "\n",
    "## Probability of Gas given J=1, F=0\n",
    "\n",
    "Let us also look at the way Jewelry impacts Gas when Fraud is observed (F=0). You can infer that Gas is independent of Jewelry when Fraud is observed.  ($ G \\perp J \\space | \\space  F $)"
   ]
  },
  {
   "cell_type": "code",
   "execution_count": 109,
   "metadata": {
    "tags": [
     "s19",
     "l19",
     "ce"
    ]
   },
   "outputs": [
    {
     "name": "stdout",
     "output_type": "stream",
     "text": [
      "╒═════╤══════════╕\n",
      "│ G   │   phi(G) │\n",
      "╞═════╪══════════╡\n",
      "│ G_0 │   0.0290 │\n",
      "├─────┼──────────┤\n",
      "│ G_1 │   0.9710 │\n",
      "╘═════╧══════════╛\n"
     ]
    }
   ],
   "source": [
    "gas_j = infer.query(var=['G'], evidence=[])\n",
    "print(gas_j)"
   ]
  },
  {
   "cell_type": "markdown",
   "metadata": {
    "tags": [
     "s19",
     "l19",
     "hint"
    ]
   },
   "source": [
    "Use ('J', 1), ('F', 0) "
   ]
  },
  {
   "cell_type": "code",
   "execution_count": 110,
   "metadata": {
    "tags": [
     "s19",
     "l19",
     "ans"
    ]
   },
   "outputs": [
    {
     "name": "stdout",
     "output_type": "stream",
     "text": [
      "╒═════╤══════════╕\n",
      "│ G   │   phi(G) │\n",
      "╞═════╪══════════╡\n",
      "│ G_0 │   0.2000 │\n",
      "├─────┼──────────┤\n",
      "│ G_1 │   0.8000 │\n",
      "╘═════╧══════════╛\n"
     ]
    }
   ],
   "source": [
    "gas_j = infer.query(var=['G'], evidence=[('J', 1), ('F', 0)])\n",
    "print(gas_j)"
   ]
  },
  {
   "cell_type": "code",
   "execution_count": 111,
   "metadata": {
    "collapsed": true,
    "tags": [
     "s19",
     "hid",
     "l19"
    ]
   },
   "outputs": [],
   "source": [
    "ref_tmp_var = False\n",
    "\n",
    "try:\n",
    "    if abs(gas_j.values[0] - 0.2) < 0.1:\n",
    "        ref_assert_var = True\n",
    "        ref_tmp_var = True\n",
    "    else:\n",
    "        ref_assert_var = False\n",
    "        print('Please follow the instructions given and use the same variables provided in the instructions.')\n",
    "except Exception:\n",
    "    print('Please follow the instructions given and use the same variables provided in the instructions.')\n",
    "\n",
    "assert ref_tmp_var"
   ]
  }
 ],
 "metadata": {
  "executed_sections": [],
  "kernelspec": {
   "display_name": "Python 3",
   "language": "python",
   "name": "python3"
  },
  "language_info": {
   "codemirror_mode": {
    "name": "ipython",
    "version": 3
   },
   "file_extension": ".py",
   "mimetype": "text/x-python",
   "name": "python",
   "nbconvert_exporter": "python",
   "pygments_lexer": "ipython3",
   "version": "3.6.1"
  }
 },
 "nbformat": 4,
 "nbformat_minor": 2
}
